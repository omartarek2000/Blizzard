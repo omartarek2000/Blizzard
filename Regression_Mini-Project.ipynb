{
  "cells": [
    {
      "cell_type": "markdown",
      "metadata": {
        "id": "view-in-github",
        "colab_type": "text"
      },
      "source": [
        "<a href=\"https://colab.research.google.com/github/omartarek2000/Blizzard/blob/master/Regression_Mini-Project.ipynb\" target=\"_parent\"><img src=\"https://colab.research.google.com/assets/colab-badge.svg\" alt=\"Open In Colab\"/></a>"
      ]
    },
    {
      "cell_type": "markdown",
      "metadata": {
        "id": "JX7f_kmGfXTI"
      },
      "source": [
        "# Linear Regression - Mini-Project 1\n"
      ]
    },
    {
      "cell_type": "markdown",
      "metadata": {
        "id": "bcSqTFs-fXTN"
      },
      "source": [
        "***Edit this cell with your name(s), tutorial number(s) and ID(s)***\n",
        "\n",
        "---\n",
        "\n",
        "Name:  Omar Tarek Abdelaziz Elsherief\n",
        "\n",
        "ID: 46-2535\n",
        "\n",
        "Tutorial: T1\n",
        "\n",
        "---\n",
        "\n",
        "Name: Mohamed Ayman Abdelziz\n",
        "\n",
        "ID: 46-1260\n",
        "\n",
        "Tutorial: T1\n",
        "\n",
        "---\n"
      ]
    },
    {
      "cell_type": "markdown",
      "metadata": {
        "id": "sKI_h7KBfXTO"
      },
      "source": [
        "## Dataset Description\n",
        "\n",
        "The dataset contains historical car auction sales prices, scraped from the outside internet sources and collected in 2015.\n",
        "\n",
        "Each row represents a sale at a used car auction. Each column is described below.\n",
        "\n",
        "| Column       | Description                                                                                          |\n",
        "| ------------ | ---------------------------------------------------------------------------------------------------- |\n",
        "| year         | Car's year of production                                                                             |\n",
        "| make         | Car make/brand                                                                                       |\n",
        "| model        | Car model                                                                                            |\n",
        "| trim         | Car's trim or grade, which specifies a car model's level of performance, features, options or extras |\n",
        "| body         | Car body type (e.g. Sedan, SUV, Coupe, etc.)                                                         |\n",
        "| transmission | Car transmission type. The mechanism that moves the power from the engine to the wheels.             |\n",
        "| vin          | Vehicle Identification Number, a unique code to identify individual motor vehicles.                  |\n",
        "| state        | The state in which the car was auctioned.                                                            |\n",
        "| condition    | The condition of the cars being at the time of auction, 5 being the best score and 1 being the worst.|\n",
        "| odometer     | The distance traveled by a vehicle since being manufactured, in miles                                |\n",
        "| color        | Exterior color of the car                                                                            |\n",
        "| interior     | Interior color of the car                                                                            |\n",
        "| seller       | The seller of the car or car dealer                                                                  |\n",
        "| mmr          | Manheim\\* Market Report, the market estimated price of the cars. An indicator of wholesale prices.   |\n",
        "| sellingprice | The price a car was sold at in auction.                                                              |\n",
        "| saledate     | The date on which the car has been sold.                                                             |\n",
        "\n",
        "\\*Manheim is a company established in 1945 as a car auction company. It has grown to a very reputable company in the industry and its MMR estimate is a baseline tool for wholesale car price determination. They base their price calculations on over 10 million transaction over the past 13-month period.\n"
      ]
    },
    {
      "cell_type": "markdown",
      "metadata": {
        "id": "Ihi5FYFsfXTQ"
      },
      "source": [
        "## Importing Libraries \\& Dataset\n"
      ]
    },
    {
      "cell_type": "code",
      "execution_count": null,
      "metadata": {
        "id": "7Ei2_wYnfXTQ",
        "outputId": "9016e67c-33e8-479b-e150-749cb5625da7",
        "colab": {
          "base_uri": "https://localhost:8080/",
          "height": 380
        }
      },
      "outputs": [
        {
          "output_type": "execute_result",
          "data": {
            "text/html": [
              "<div>\n",
              "<style scoped>\n",
              "    .dataframe tbody tr th:only-of-type {\n",
              "        vertical-align: middle;\n",
              "    }\n",
              "\n",
              "    .dataframe tbody tr th {\n",
              "        vertical-align: top;\n",
              "    }\n",
              "\n",
              "    .dataframe thead th {\n",
              "        text-align: right;\n",
              "    }\n",
              "</style>\n",
              "<table border=\"1\" class=\"dataframe\">\n",
              "  <thead>\n",
              "    <tr style=\"text-align: right;\">\n",
              "      <th></th>\n",
              "      <th>year</th>\n",
              "      <th>make</th>\n",
              "      <th>model</th>\n",
              "      <th>trim</th>\n",
              "      <th>body</th>\n",
              "      <th>transmission</th>\n",
              "      <th>vin</th>\n",
              "      <th>state</th>\n",
              "      <th>condition</th>\n",
              "      <th>odometer</th>\n",
              "      <th>color</th>\n",
              "      <th>interior</th>\n",
              "      <th>seller</th>\n",
              "      <th>mmr</th>\n",
              "      <th>sellingprice</th>\n",
              "      <th>saledate</th>\n",
              "    </tr>\n",
              "  </thead>\n",
              "  <tbody>\n",
              "    <tr>\n",
              "      <th>0</th>\n",
              "      <td>2013</td>\n",
              "      <td>Hyundai</td>\n",
              "      <td>Sonata</td>\n",
              "      <td>GLS</td>\n",
              "      <td>sedan</td>\n",
              "      <td>automatic</td>\n",
              "      <td>5npeb4acxdh702805</td>\n",
              "      <td>ma</td>\n",
              "      <td>3.9</td>\n",
              "      <td>50404.0mi</td>\n",
              "      <td>black</td>\n",
              "      <td>gray</td>\n",
              "      <td>the hertz corporation</td>\n",
              "      <td>$11000</td>\n",
              "      <td>$10900</td>\n",
              "      <td>Tue Jun 02 2015 02:30:00 GMT-0700 (PDT)</td>\n",
              "    </tr>\n",
              "    <tr>\n",
              "      <th>1</th>\n",
              "      <td>2014</td>\n",
              "      <td>Toyota</td>\n",
              "      <td>4Runner</td>\n",
              "      <td>SR5</td>\n",
              "      <td>SUV</td>\n",
              "      <td>automatic</td>\n",
              "      <td>jtezu5jr2e5064567</td>\n",
              "      <td>fl</td>\n",
              "      <td>4.9</td>\n",
              "      <td>17846.0mi</td>\n",
              "      <td>gray</td>\n",
              "      <td>—</td>\n",
              "      <td>award auto sales and leasing inc</td>\n",
              "      <td>$28700</td>\n",
              "      <td>$29900</td>\n",
              "      <td>Wed Feb 18 2015 07:15:00 GMT-0800 (PST)</td>\n",
              "    </tr>\n",
              "    <tr>\n",
              "      <th>2</th>\n",
              "      <td>2012</td>\n",
              "      <td>Lexus</td>\n",
              "      <td>IS 250</td>\n",
              "      <td>Base</td>\n",
              "      <td>Sedan</td>\n",
              "      <td>automatic</td>\n",
              "      <td>jthbf5c24c5168599</td>\n",
              "      <td>fl</td>\n",
              "      <td>4.1</td>\n",
              "      <td>21122.0mi</td>\n",
              "      <td>silver</td>\n",
              "      <td>black</td>\n",
              "      <td>lexus financial services</td>\n",
              "      <td>$22200</td>\n",
              "      <td>$24200</td>\n",
              "      <td>Tue Jan 20 2015 01:30:00 GMT-0800 (PST)</td>\n",
              "    </tr>\n",
              "    <tr>\n",
              "      <th>3</th>\n",
              "      <td>2002</td>\n",
              "      <td>BMW</td>\n",
              "      <td>X5</td>\n",
              "      <td>4.4i</td>\n",
              "      <td>SUV</td>\n",
              "      <td>automatic</td>\n",
              "      <td>5uxfb33562lh33864</td>\n",
              "      <td>fl</td>\n",
              "      <td>1.9</td>\n",
              "      <td>145303.0mi</td>\n",
              "      <td>black</td>\n",
              "      <td>black</td>\n",
              "      <td>peddle llc</td>\n",
              "      <td>$3675</td>\n",
              "      <td>$3200</td>\n",
              "      <td>Wed Mar 04 2015 07:10:00 GMT-0800 (PST)</td>\n",
              "    </tr>\n",
              "    <tr>\n",
              "      <th>4</th>\n",
              "      <td>2014</td>\n",
              "      <td>Ford</td>\n",
              "      <td>E-Series Van</td>\n",
              "      <td>E-250</td>\n",
              "      <td>E-Series Van</td>\n",
              "      <td>automatic</td>\n",
              "      <td>1ftne2ew0eda31832</td>\n",
              "      <td>wa</td>\n",
              "      <td>4.9</td>\n",
              "      <td>6714.0mi</td>\n",
              "      <td>white</td>\n",
              "      <td>gray</td>\n",
              "      <td>u-haul</td>\n",
              "      <td>$22500</td>\n",
              "      <td>$22100</td>\n",
              "      <td>Wed Feb 18 2015 06:45:00 GMT-0800 (PST)</td>\n",
              "    </tr>\n",
              "  </tbody>\n",
              "</table>\n",
              "</div>"
            ],
            "text/plain": [
              "   year     make  ... sellingprice                                 saledate\n",
              "0  2013  Hyundai  ...       $10900  Tue Jun 02 2015 02:30:00 GMT-0700 (PDT)\n",
              "1  2014   Toyota  ...       $29900  Wed Feb 18 2015 07:15:00 GMT-0800 (PST)\n",
              "2  2012    Lexus  ...       $24200  Tue Jan 20 2015 01:30:00 GMT-0800 (PST)\n",
              "3  2002      BMW  ...        $3200  Wed Mar 04 2015 07:10:00 GMT-0800 (PST)\n",
              "4  2014     Ford  ...       $22100  Wed Feb 18 2015 06:45:00 GMT-0800 (PST)\n",
              "\n",
              "[5 rows x 16 columns]"
            ]
          },
          "metadata": {},
          "execution_count": 2
        }
      ],
      "source": [
        "\n",
        "import pandas as pd\n",
        "import numpy as np\n",
        "import matplotlib.pyplot as plt\n",
        "import seaborn as sns\n",
        "\n",
        "%matplotlib inline\n",
        "plt.style.use(\"seaborn\")\n",
        "\n",
        "try:\n",
        "    df = pd.read_csv('car_prices.csv')\n",
        "except:\n",
        "    df = pd.read_csv('https://raw.githubusercontent.com/GUC-DM/W2021/main/data/car_prices.csv')\n",
        "\n",
        "df.head()"
      ]
    },
    {
      "cell_type": "code",
      "source": [
        "df"
      ],
      "metadata": {
        "colab": {
          "base_uri": "https://localhost:8080/",
          "height": 770
        },
        "id": "I9jECdBV8YhM",
        "outputId": "23b8b85e-1cfe-46fe-b28d-6dcdbe96bc1a"
      },
      "execution_count": null,
      "outputs": [
        {
          "output_type": "execute_result",
          "data": {
            "text/html": [
              "<div>\n",
              "<style scoped>\n",
              "    .dataframe tbody tr th:only-of-type {\n",
              "        vertical-align: middle;\n",
              "    }\n",
              "\n",
              "    .dataframe tbody tr th {\n",
              "        vertical-align: top;\n",
              "    }\n",
              "\n",
              "    .dataframe thead th {\n",
              "        text-align: right;\n",
              "    }\n",
              "</style>\n",
              "<table border=\"1\" class=\"dataframe\">\n",
              "  <thead>\n",
              "    <tr style=\"text-align: right;\">\n",
              "      <th></th>\n",
              "      <th>year</th>\n",
              "      <th>make</th>\n",
              "      <th>model</th>\n",
              "      <th>trim</th>\n",
              "      <th>body</th>\n",
              "      <th>transmission</th>\n",
              "      <th>vin</th>\n",
              "      <th>state</th>\n",
              "      <th>condition</th>\n",
              "      <th>odometer</th>\n",
              "      <th>color</th>\n",
              "      <th>interior</th>\n",
              "      <th>seller</th>\n",
              "      <th>mmr</th>\n",
              "      <th>sellingprice</th>\n",
              "      <th>saledate</th>\n",
              "    </tr>\n",
              "  </thead>\n",
              "  <tbody>\n",
              "    <tr>\n",
              "      <th>0</th>\n",
              "      <td>2013</td>\n",
              "      <td>Hyundai</td>\n",
              "      <td>Sonata</td>\n",
              "      <td>GLS</td>\n",
              "      <td>sedan</td>\n",
              "      <td>automatic</td>\n",
              "      <td>5npeb4acxdh702805</td>\n",
              "      <td>ma</td>\n",
              "      <td>3.9</td>\n",
              "      <td>50404.0mi</td>\n",
              "      <td>black</td>\n",
              "      <td>gray</td>\n",
              "      <td>the hertz corporation</td>\n",
              "      <td>$11000</td>\n",
              "      <td>$10900</td>\n",
              "      <td>Tue Jun 02 2015 02:30:00 GMT-0700 (PDT)</td>\n",
              "    </tr>\n",
              "    <tr>\n",
              "      <th>1</th>\n",
              "      <td>2014</td>\n",
              "      <td>Toyota</td>\n",
              "      <td>4Runner</td>\n",
              "      <td>SR5</td>\n",
              "      <td>SUV</td>\n",
              "      <td>automatic</td>\n",
              "      <td>jtezu5jr2e5064567</td>\n",
              "      <td>fl</td>\n",
              "      <td>4.9</td>\n",
              "      <td>17846.0mi</td>\n",
              "      <td>gray</td>\n",
              "      <td>—</td>\n",
              "      <td>award auto sales and leasing inc</td>\n",
              "      <td>$28700</td>\n",
              "      <td>$29900</td>\n",
              "      <td>Wed Feb 18 2015 07:15:00 GMT-0800 (PST)</td>\n",
              "    </tr>\n",
              "    <tr>\n",
              "      <th>2</th>\n",
              "      <td>2012</td>\n",
              "      <td>Lexus</td>\n",
              "      <td>IS 250</td>\n",
              "      <td>Base</td>\n",
              "      <td>Sedan</td>\n",
              "      <td>automatic</td>\n",
              "      <td>jthbf5c24c5168599</td>\n",
              "      <td>fl</td>\n",
              "      <td>4.1</td>\n",
              "      <td>21122.0mi</td>\n",
              "      <td>silver</td>\n",
              "      <td>black</td>\n",
              "      <td>lexus financial services</td>\n",
              "      <td>$22200</td>\n",
              "      <td>$24200</td>\n",
              "      <td>Tue Jan 20 2015 01:30:00 GMT-0800 (PST)</td>\n",
              "    </tr>\n",
              "    <tr>\n",
              "      <th>3</th>\n",
              "      <td>2002</td>\n",
              "      <td>BMW</td>\n",
              "      <td>X5</td>\n",
              "      <td>4.4i</td>\n",
              "      <td>SUV</td>\n",
              "      <td>automatic</td>\n",
              "      <td>5uxfb33562lh33864</td>\n",
              "      <td>fl</td>\n",
              "      <td>1.9</td>\n",
              "      <td>145303.0mi</td>\n",
              "      <td>black</td>\n",
              "      <td>black</td>\n",
              "      <td>peddle llc</td>\n",
              "      <td>$3675</td>\n",
              "      <td>$3200</td>\n",
              "      <td>Wed Mar 04 2015 07:10:00 GMT-0800 (PST)</td>\n",
              "    </tr>\n",
              "    <tr>\n",
              "      <th>4</th>\n",
              "      <td>2014</td>\n",
              "      <td>Ford</td>\n",
              "      <td>E-Series Van</td>\n",
              "      <td>E-250</td>\n",
              "      <td>E-Series Van</td>\n",
              "      <td>automatic</td>\n",
              "      <td>1ftne2ew0eda31832</td>\n",
              "      <td>wa</td>\n",
              "      <td>4.9</td>\n",
              "      <td>6714.0mi</td>\n",
              "      <td>white</td>\n",
              "      <td>gray</td>\n",
              "      <td>u-haul</td>\n",
              "      <td>$22500</td>\n",
              "      <td>$22100</td>\n",
              "      <td>Wed Feb 18 2015 06:45:00 GMT-0800 (PST)</td>\n",
              "    </tr>\n",
              "    <tr>\n",
              "      <th>...</th>\n",
              "      <td>...</td>\n",
              "      <td>...</td>\n",
              "      <td>...</td>\n",
              "      <td>...</td>\n",
              "      <td>...</td>\n",
              "      <td>...</td>\n",
              "      <td>...</td>\n",
              "      <td>...</td>\n",
              "      <td>...</td>\n",
              "      <td>...</td>\n",
              "      <td>...</td>\n",
              "      <td>...</td>\n",
              "      <td>...</td>\n",
              "      <td>...</td>\n",
              "      <td>...</td>\n",
              "      <td>...</td>\n",
              "    </tr>\n",
              "    <tr>\n",
              "      <th>46573</th>\n",
              "      <td>2013</td>\n",
              "      <td>Ford</td>\n",
              "      <td>Edge</td>\n",
              "      <td>SE</td>\n",
              "      <td>SUV</td>\n",
              "      <td>automatic</td>\n",
              "      <td>2fmdk4gc2dbc03247</td>\n",
              "      <td>va</td>\n",
              "      <td>3.5</td>\n",
              "      <td>52844.0mi</td>\n",
              "      <td>—</td>\n",
              "      <td>gray</td>\n",
              "      <td>wheels exchange llc</td>\n",
              "      <td>$15650</td>\n",
              "      <td>$17000</td>\n",
              "      <td>Wed Jan 07 2015 09:30:00 GMT-0800 (PST)</td>\n",
              "    </tr>\n",
              "    <tr>\n",
              "      <th>46574</th>\n",
              "      <td>2012</td>\n",
              "      <td>Infiniti</td>\n",
              "      <td>G Sedan</td>\n",
              "      <td>G37 Journey</td>\n",
              "      <td>g sedan</td>\n",
              "      <td>automatic</td>\n",
              "      <td>jn1cv6ap9cm623162</td>\n",
              "      <td>ca</td>\n",
              "      <td>4.5</td>\n",
              "      <td>23185.0mi</td>\n",
              "      <td>black</td>\n",
              "      <td>black</td>\n",
              "      <td>nissan infiniti lt</td>\n",
              "      <td>$19350</td>\n",
              "      <td>$21500</td>\n",
              "      <td>Thu Jun 18 2015 05:30:00 GMT-0700 (PDT)</td>\n",
              "    </tr>\n",
              "    <tr>\n",
              "      <th>46575</th>\n",
              "      <td>2013</td>\n",
              "      <td>BMW</td>\n",
              "      <td>3 Series</td>\n",
              "      <td>328i</td>\n",
              "      <td>Sedan</td>\n",
              "      <td>automatic</td>\n",
              "      <td>wba3a5c56df356614</td>\n",
              "      <td>tx</td>\n",
              "      <td>4.2</td>\n",
              "      <td>45357.0mi</td>\n",
              "      <td>white</td>\n",
              "      <td>beige</td>\n",
              "      <td>motorcars of south texas</td>\n",
              "      <td>$22200</td>\n",
              "      <td>$22000</td>\n",
              "      <td>Wed Feb 18 2015 02:00:00 GMT-0800 (PST)</td>\n",
              "    </tr>\n",
              "    <tr>\n",
              "      <th>46576</th>\n",
              "      <td>2013</td>\n",
              "      <td>Toyota</td>\n",
              "      <td>Camry</td>\n",
              "      <td>LE</td>\n",
              "      <td>Sedan</td>\n",
              "      <td>automatic</td>\n",
              "      <td>4t1bf1fk8du254684</td>\n",
              "      <td>ca</td>\n",
              "      <td>3.5</td>\n",
              "      <td>43376.0mi</td>\n",
              "      <td>black</td>\n",
              "      <td>beige</td>\n",
              "      <td>avis rac/san leandro</td>\n",
              "      <td>$13400</td>\n",
              "      <td>$13800</td>\n",
              "      <td>Wed Jan 14 2015 04:30:00 GMT-0800 (PST)</td>\n",
              "    </tr>\n",
              "    <tr>\n",
              "      <th>46577</th>\n",
              "      <td>2013</td>\n",
              "      <td>Kia</td>\n",
              "      <td>Rio</td>\n",
              "      <td>LX</td>\n",
              "      <td>Sedan</td>\n",
              "      <td>automatic</td>\n",
              "      <td>knadm4a32d6164825</td>\n",
              "      <td>ga</td>\n",
              "      <td>4.1</td>\n",
              "      <td>49953.0mi</td>\n",
              "      <td>silver</td>\n",
              "      <td>black</td>\n",
              "      <td>kia motors finance</td>\n",
              "      <td>$9700</td>\n",
              "      <td>$9300</td>\n",
              "      <td>Thu Dec 18 2014 10:00:00 GMT-0800 (PST)</td>\n",
              "    </tr>\n",
              "  </tbody>\n",
              "</table>\n",
              "<p>46578 rows × 16 columns</p>\n",
              "</div>"
            ],
            "text/plain": [
              "       year      make  ... sellingprice                                 saledate\n",
              "0      2013   Hyundai  ...       $10900  Tue Jun 02 2015 02:30:00 GMT-0700 (PDT)\n",
              "1      2014    Toyota  ...       $29900  Wed Feb 18 2015 07:15:00 GMT-0800 (PST)\n",
              "2      2012     Lexus  ...       $24200  Tue Jan 20 2015 01:30:00 GMT-0800 (PST)\n",
              "3      2002       BMW  ...        $3200  Wed Mar 04 2015 07:10:00 GMT-0800 (PST)\n",
              "4      2014      Ford  ...       $22100  Wed Feb 18 2015 06:45:00 GMT-0800 (PST)\n",
              "...     ...       ...  ...          ...                                      ...\n",
              "46573  2013      Ford  ...       $17000  Wed Jan 07 2015 09:30:00 GMT-0800 (PST)\n",
              "46574  2012  Infiniti  ...       $21500  Thu Jun 18 2015 05:30:00 GMT-0700 (PDT)\n",
              "46575  2013       BMW  ...       $22000  Wed Feb 18 2015 02:00:00 GMT-0800 (PST)\n",
              "46576  2013    Toyota  ...       $13800  Wed Jan 14 2015 04:30:00 GMT-0800 (PST)\n",
              "46577  2013       Kia  ...        $9300  Thu Dec 18 2014 10:00:00 GMT-0800 (PST)\n",
              "\n",
              "[46578 rows x 16 columns]"
            ]
          },
          "metadata": {},
          "execution_count": 3
        }
      ]
    },
    {
      "cell_type": "markdown",
      "metadata": {
        "id": "eqDg9c8TfXTT"
      },
      "source": [
        "## Data Inspection\n",
        "\n",
        "Perform data inspection tasks here (recommended for data understanding)."
      ]
    },
    {
      "cell_type": "code",
      "execution_count": null,
      "metadata": {
        "id": "ZRgoEte2fXTU",
        "colab": {
          "base_uri": "https://localhost:8080/"
        },
        "outputId": "5514c49c-ccaa-46ce-c36c-1ce759f4088f"
      },
      "outputs": [
        {
          "output_type": "stream",
          "name": "stdout",
          "text": [
            "make: ['Hyundai' 'Toyota' 'Lexus' 'BMW' 'Ford' 'Kia' 'Chevrolet' 'Cadillac'\n",
            " 'Mercedes-Benz' 'Jeep' 'Infiniti' 'Lincoln' 'Mazda' 'Chrysler' 'GMC'\n",
            " 'Honda' 'Dodge' 'Audi' 'Nissan' 'Buick' 'MINI' 'Jaguar' 'Volvo'\n",
            " 'Mitsubishi' 'Volkswagen' 'Subaru' 'Porsche' 'Isuzu' 'Saturn' 'Pontiac'\n",
            " 'Scion' 'Acura' 'Ram' 'Land Rover' 'Suzuki' 'Mercury' 'HUMMER' 'Saab'\n",
            " 'Maserati' 'FIAT' 'Geo' 'smart' 'Oldsmobile' 'Fisker' 'Bentley'\n",
            " 'Plymouth' 'Ferrari' 'Aston Martin']\n",
            "\n",
            "model: ['Sonata' '4Runner' 'IS 250' 'X5' 'E-Series Van' 'Optima' 'Avalanche'\n",
            " 'CTS' 'E-Class' 'Forte' 'Wrangler' 'G Sedan' 'MKS' 'Soul' 'Ranger'\n",
            " 'Mazda6' 'Tundra' 'PT Cruiser' 'Acadia' 'Mustang' 'Odyssey' 'X3' 'STS'\n",
            " 'F-150' 'Sienna' 'Liberty' 'DTS' 'Sebring' 'Nitro' 'Tacoma' 'Elantra'\n",
            " 'Q7' 'Maxima' 'Corvette' 'Grand Cherokee' 'FJ Cruiser' 'Fiesta' 'Genesis'\n",
            " 'Town and Country' 'F-350 Super Duty' 'Z4' 'Murano' 'Enclave' 'Altima'\n",
            " 'Sentra' 'R-Class' 'Sierra 1500' 'Cooper' 'XJ' 'Edge' 'Focus' 'Avenger'\n",
            " 'Civic' 'Escape' 'Camry' 'Encore' 'Accord' 'Sonic' 'Yukon' 'XF'\n",
            " 'Savana Cargo' 'Fusion' '200' 'Cruze' 'MKX' 'Stratus' 'S60' 'Taurus'\n",
            " 'Corolla' 'CR-V' 'Tucson' 'Charger' 'Lancer' 'Malibu' 'Mazda3' 'Jetta'\n",
            " 'Elantra GT' '3 Series' 'Leaf' 'Express Cargo' 'Outlander Sport' 'Venza'\n",
            " 'F-250 Super Duty' 'Versa' 'Rogue' 'Impreza WRX' 'Impala' 'Journey'\n",
            " 'Prius' 'Lucerne' 'Rio' 'TrailBlazer' 'Yaris' 'Econoline Cargo' 'Mirage'\n",
            " 'RAV4' 'Explorer' 'Cayman' '5 Series' 'Colorado' 'Ascender' 'Commander'\n",
            " 'ES 350' 'Xterra' '7 Series' 'ION' 'Escalade' 'G6' 'Cooper Coupe'\n",
            " 'Sorento' '300' 'tC' 'Volt' 'Durango' 'Terrain' 'Flex' 'Grand Caravan'\n",
            " 'Impala Limited' 'S-Class' 'Grand Prix' 'CX-5' 'K900' 'Matrix' 'SRX'\n",
            " 'TSX' 'Ram Pickup 1500' 'ES 300' '5 Series Gran Turismo' 'CLK-Class'\n",
            " '2500' 'Frontier' 'MKZ' 'GS 350' 'G Convertible' 'Accent' 'Tahoe'\n",
            " 'Challenger' 'VUE' 'CX-9' 'Silverado 1500' 'Equinox' 'Pilot' 'M'\n",
            " 'Sequoia' 'Escape Hybrid' 'S40' 'SLK-Class' 'Suburban' 'Malibu Maxx'\n",
            " 'Outlander' 'CLA-Class' 'Ridgeline' 'New Beetle' 'Outback' 'M-Class'\n",
            " 'Silverado 2500HD' 'Santa Fe' 'LaCrosse' '1500' 'L-Series' 'Passat' 'Q5'\n",
            " 'RX 330' 'Eclipse' 'Beetle Convertible' 'Transit Connect' 'Navigator'\n",
            " 'Camaro' 'Expedition' 'MDX' 'Forester' 'Pathfinder' 'Grand Am' 'QX56'\n",
            " 'Range Rover Sport' 'Regal' 'SX4' 'Juke' 'Traverse' 'RX 350' 'C-Class'\n",
            " 'Mariner' 'Impreza' 'Thunderbird' 'G Coupe' '6 Series Gran Coupe'\n",
            " 'GS 430' 'Altima Hybrid' 'TL' 'xD' 'Avalon' 'Jetta GLI' 'Taurus X'\n",
            " 'Range Rover' 'Neon' 'J30' 'Cavalier' 'S-Series' 'A4' 'Boxster'\n",
            " 'Sprinter Cargo' 'GLK-Class' 'Crossfire' 'Santa Fe Sport' 'HHR' 'Aveo'\n",
            " 'Ram Pickup 2500' 'Cobalt' 'Armada' 'Range Rover Evoque' 'Cadenza'\n",
            " 'Forenza' 'Sierra 2500HD' 'Escalade ESV' 'Aviator' 'CC' 'Town Car' 'JX'\n",
            " 'Rogue Select' 'Highlander' 'I35' 'H2' 'RX 400h' 'Q50' '3500' '350Z'\n",
            " 'Patriot' 'Captiva Sport' 'Pacifica' 'Compass' 'Mazda5' 'Fusion Hybrid'\n",
            " '9-3' 'Versa Note' 'CX-7' 'Monte Carlo' 'Aura' 'Sportage' 'Quest' 'ILX'\n",
            " 'Routan' 'EX' 'Golf' 'Veracruz' 'Millenia' 'Sedona' 'Cayenne' 'Terraza'\n",
            " 'Spectra' 'Veloster' 'FX' 'X1' 'RX 300' 'H3' '6 Series' 'RDX' 'Dart'\n",
            " 'C30' 'LS' 'XC90' 'C70' 'Freestyle' 'G35' 'Dakota' 'Aspen' 'Caliber'\n",
            " 'Cherokee' 'Cooper Clubman' 'E-Series Wagon' 'Tiguan' 'Endeavor'\n",
            " 'XV Crosstrek' 'Grand Marquis' 'Century' 'Silverado 3500' 'Land Cruiser'\n",
            " 'xB' 'Spark' '1 Series' 'Montero' 'Camry Hybrid' 'M3' 'X6' 'Rondo'\n",
            " 'SC 430' 'XC60' 'Element' 'NV200' 'X-Type' 'G37' 'Envoy XL' 'Milan'\n",
            " 'Cooper Countryman' 'DeVille' 'Insight' 'Protege' 'XL7' 'Mazda2'\n",
            " 'Aura Hybrid' 'Sonata Hybrid' 'Cube' 'M6 Gran Coupe' 'Verano' 'Tribeca'\n",
            " 'LS 460' 'XL-7' 'A6' 'Discovery Series II' 'M5' 'Lancer Evolution'\n",
            " 'C-Max Hybrid' 'TrailBlazer EXT' 'Freestar' 'Montero Sport' 'Lumina'\n",
            " 'Explorer Sport Trac' 'Crosstour' 'CL' 'QX70' 'GX 460' 'Accord Crosstour'\n",
            " 'Relay' 'Torrent' 'CL-Class' 'Mountaineer' 'A3' 'Tiburon' 'QX60'\n",
            " 'GranTurismo' 'Touareg' 'Five Hundred' 'M35' 'Rendezvous' 'Blazer'\n",
            " 'Titan' 'NV Cargo' 'GTI' 'Sephia' 'Malibu Classic' 'CLS-Class'\n",
            " 'Silverado 1500 Classic' 'LX 570' 'SL-Class' 'Genesis Coupe'\n",
            " 'Sierra 1500 Classic' 'Yukon XL' 'A5' 'G37 Convertible' '500' 'GL-Class'\n",
            " 'Amanti' 'MKT' 'XTS' 'C/K 1500 Series' 'Beetle' 'Legacy' 'Excursion'\n",
            " 'F-TYPE' 'G3' 'Express' 'Quattroporte' 'Montana' 'Axiom' 'B-Series Truck'\n",
            " 'Outlook' 'S80' 'Vibe' 'Jetta SportWagen' '4 Series' '2 Series' 'RX 450h'\n",
            " 'Silverado 3500HD' '626' 'Canyon' 'HS 250h' 'S2000' 'iQ' 'IS 350'\n",
            " 'Yukon Hybrid' 'Prizm' 'Envoy' 'Rodeo' 'FX35' 'Firebird' 'Fit' 'ES 330'\n",
            " 'Jimmy' 'LS 430' 'Promaster Cargo Van' 'V50' 'Sky' 'Highlander Hybrid'\n",
            " 'Bonneville' 'Eos' 'QX80' '500L' 'Eldorado' 'XJ-Series' 'ATS' 'Marauder'\n",
            " 'B9 Tribeca' 'R8' 'Uplander' 'S5' 'CT 200h' 'fortwo' 'Prius c' 'Rabbit'\n",
            " 'Eclipse Spyder' 'LR2' 'Seville' 'Mazdaspeed 3' 'S-Type' 'Magnum' '300M'\n",
            " 'FR-S' 'Fusion Energi' 'malibu' 'CR-Z' 'MX-5 Miata' 'BRZ' 'Concorde' 'G8'\n",
            " 'FX45' 'Sable' 'LeSabre' 'Macan' '3 Series Gran Turismo' 'Windstar' '3'\n",
            " 'TT' 'Panamera' 'Venture' 'Catera' 'RS 5' 'Escalade EXT' 'Astra'\n",
            " 'Diamante' 'Intrigue' 'S4' 'Mazdaspeed3' 'Avalon Hybrid' 'Camry Solara'\n",
            " 'Ram Pickup 3500' 'QX' 'R32' 'Elantra Coupe' 'LR4' '911' 'GLI' '9-7X'\n",
            " 'S-10' 'Shelby GT500' 'Azera' '370Z' 'Equus' 'X6 M' 'allroad quattro'\n",
            " 'Tahoe Hybrid' 'Q60 Convertible' 'Crown Victoria' 'XG350' 'XK-Series'\n",
            " 'Paseo' 'Corvette Stingray' 'Focus ST' 'Karma' 'V60' 'Escort' 'I30' 'A8'\n",
            " 'V70' 'GS 300' 'Celica' 'Cabrio' 'Intrepid' 'H2 SUT' 'LR3'\n",
            " 'F-150 Heritage' 'Ghibli' 'Galant' 'Lancer Sportback' 'MPV' 'Zephyr'\n",
            " 'Grand Vitara' 'LX 470' 'Tracker' 'Tribute' 'Cougar' 'Touareg 2'\n",
            " 'IS 250 C' 'Integra' 'Q45' 'WRX' 'Sunfire' 'Expedition EL'\n",
            " 'Murano CrossCabriolet' 'Borrego' 'Safari Cargo'\n",
            " 'Black Diamond Avalanche' 'Prius Plug-in' 'Entourage' 'A7' 'Golf R'\n",
            " 'C-Max Energi' 'Alero' 'GX 470' 'Mariner Hybrid' 'Passport' 'Mark LT'\n",
            " 'Freelander' 'Sierra 3500HD' 'QX4' 'XK' 'GT-R' 'Caravan' 'CTS-V' 'Baja'\n",
            " 'Prelude' 'Sprinter' 'Protege5' 'CTS Coupe' 'EX35' 'Sierra 3500'\n",
            " 'IS 350 C' 'IS F' 'GTO' 'Rainier' 'M6' 'XC70' 'Solstice' 'Sonoma' '9-5'\n",
            " 'Raider' 'CTS Wagon' 'GranTurismo Convertible' 'NV' 'allroad' 'Cutlass'\n",
            " 'Aerio' 'xA' 'Viper' 'Envoy XUV' 'C/V Cargo Van' 'SSR' 'L300' 'M37' 'ZDX'\n",
            " 'Astro Cargo' 'RL' 'S70' 'Explorer Sport' 'Continental GT' 'RC F'\n",
            " 'Bravada' 'IS 300' 'Aurora' 'Silhouette' 'TSX Sport Wagon' 'LHS'\n",
            " 'F-450 Super Duty' 'RLX' 'Cooper Paceman' 'Mystique' 'Park Avenue'\n",
            " 'Classic' 'Trooper' 'Prius v' 'Silverado 2500HD Classic' 'X5 M' 'Montego'\n",
            " '6' 'S8' 'Z3' 'Prowler' 'Silverado 1500HD' 'i-MiEV' 'Sierra 1500HD'\n",
            " 'Sierra 1500 Hybrid' 'Econoline Wagon' 'Safari' 'M45' 'G-Class' 'TTS'\n",
            " 'Malibu Hybrid' 'SS' 'GS 450h' 'Jetta Hybrid' 'Mazdaspeed Mazda3'\n",
            " 'Continental GT Speed' 'F430' 'Elantra Touring' 'Continental' 'RSX'\n",
            " 'Silverado 1500 Hybrid' 'G5' 'ECHO' 'Sierra 2500HD Classic' 'accord'\n",
            " 'MKZ Hybrid' 'S6' 'Contour' '190-Class' 'RS 6' 'Kizashi' 'LS 400'\n",
            " 'Tercel' 'Caprice' '850' 'CTS-V Coupe' 'Voyager' 'Astro' 'Q60 Coupe'\n",
            " 'ES 300h' 'G20' 'V40' 'i8' 'envoy' 'Monterey' 'Cirrus' 'H3T' '200SX'\n",
            " 'Escalade Hybrid' 'Truck' '4 Series Gran Coupe' 'E-150' 'TLX' 'STS-V'\n",
            " 'Tempo' 'Blackwood' 'V8 Vantage' 'GS 400' 'Continental GTC'\n",
            " 'Yukon Denali' 'Cutlass Supreme' 'Transit Van' 'Navigator L'\n",
            " 'Eighty-Eight' 'XG300' 'Q70' 'S7' 'Continental Flying Spur' 'RX-8' 'S90'\n",
            " 'Mark VIII' 'Transit Wagon' 'Reno' 'Silverado 3500 Classic']\n",
            "\n",
            "trim: ['GLS' 'SR5' 'Base' ... 'Base PZEV' 'Natural Gas' '10th Anniversary']\n",
            "\n",
            "body: ['sedan' 'SUV' 'Sedan' 'E-Series Van' 'Crew Cab' 'suv' 'G Sedan' 'Wagon'\n",
            " 'Regular Cab' 'Double Cab' 'wagon' 'Coupe' 'Minivan' 'SuperCrew' 'coupe'\n",
            " 'convertible' 'Extended Cab' 'Hatchback' 'van' 'hatchback' 'Van'\n",
            " 'Convertible' 'SuperCab' 'g sedan' 'king cab' 'G Convertible' 'King Cab'\n",
            " 'extended cab' 'quad cab' 'supercab' 'Beetle Convertible' 'minivan'\n",
            " 'G Coupe' 'Quad Cab' 'crew cab' 'supercrew' 'CrewMax Cab' 'double cab'\n",
            " 'g coupe' 'Club Cab' 'Access Cab' 'Genesis Coupe' 'e-series van'\n",
            " 'G37 Convertible' 'Cab Plus 4' 'crewmax cab' 'genesis coupe'\n",
            " 'promaster cargo van' 'access cab' 'Mega Cab' 'Koup' 'regular cab'\n",
            " 'mega cab' 'Elantra Coupe' 'Q60 Convertible' 'regular-cab'\n",
            " 'Promaster Cargo Van' 'Xtracab' 'CTS Coupe' 'CTS Wagon'\n",
            " 'GranTurismo Convertible' 'beetle convertible' 'TSX Sport Wagon'\n",
            " 'g convertible' 'tsx sport wagon' 'CTS-V Coupe' 'Q60 Coupe'\n",
            " 'granturismo convertible' 'cts coupe' 'Transit Van' 'xtracab']\n",
            "\n",
            "transmission: ['automatic' 'manual']\n",
            "\n",
            "vin: ['5npeb4acxdh702805' 'jtezu5jr2e5064567' 'jthbf5c24c5168599' ...\n",
            " 'wba3a5c56df356614' '4t1bf1fk8du254684' 'knadm4a32d6164825']\n",
            "\n",
            "state: ['ma' 'fl' 'wa' 'co' 'ca' 'il' 'nv' 'mo' 'tx' 'ne' 'md' 'nj' 'la' 'ny'\n",
            " 'nc' 'ut' 'va' 'ga' 'tn' 'oh' 'ms' 'pa' 'or' 'mi' 'wi' 'az' 'pr' 'mn'\n",
            " 'in' 'hi' 'sc' 'ok' 'nm' 'al']\n",
            "\n",
            "odometer: ['50404.0mi' '17846.0mi' '21122.0mi' ... '45357.0mi' '43376.0mi'\n",
            " '49953.0mi']\n",
            "\n",
            "color: ['black' 'gray' 'silver' 'white' 'blue' 'burgundy' 'beige' 'gold' 'green'\n",
            " 'red' 'purple' '—' 'yellow' 'brown' 'turquoise' 'orange' 'off-white'\n",
            " 'charcoal' 'pink' 'lime']\n",
            "\n",
            "interior: ['gray' '—' 'black' 'beige' 'tan' 'red' 'blue' 'brown' 'off-white'\n",
            " 'silver' 'orange' 'purple' 'white' 'gold' 'burgundy' 'green' 'yellow']\n",
            "\n",
            "seller: ['the hertz corporation' 'award auto sales and leasing inc'\n",
            " 'lexus financial services' ... 'bmw of fresno' 'my mint car corp'\n",
            " 'carter federal credit union']\n",
            "\n",
            "mmr: ['$11000' '$28700' '$22200' ... '$51500' '$57900' '$94000']\n",
            "\n",
            "sellingprice: ['$10900' '$29900' '$24200' '$3200' '$22100' '$15500' '$13600' '$14700'\n",
            " '$20000' '$27500' '$22250' '$23700' '$12000' '$3700' '$5500' '$7300'\n",
            " '$800' '$18000' '$12500' '$8900' '$36500' '$5900' '$16300' '$17800'\n",
            " '$8300' '$3000' '$700' '$5100' '$23000' '$9100' '$40250' '$17900'\n",
            " '$51000' '$20600' '$12900' '$9200' '$19600' '$18900' '$25000' '$8600'\n",
            " '$20900' '$28750' '$31700' '$11900' '$1250' '$6700' '$8200' '$2800'\n",
            " '$27000' '$21300' '$9500' '$13200' '$11400' '$8700' '$11200' '$13700'\n",
            " '$17000' '$22300' '$5200' '$3400' '$19800' '$1100' '$19000' '$7500'\n",
            " '$2100' '$19300' '$12800' '$8000' '$11600' '$13900' '$9000' '$8400'\n",
            " '$4800' '$15700' '$15000' '$14400' '$20400' '$14600' '$34000' '$13750'\n",
            " '$8500' '$10300' '$10600' '$10000' '$1300' '$30000' '$6200' '$25500'\n",
            " '$12100' '$11000' '$22800' '$44250' '$7100' '$12600' '$17600' '$9800'\n",
            " '$23500' '$43900' '$10800' '$7600' '$13100' '$3100' '$32000' '$32800'\n",
            " '$2400' '$20500' '$10700' '$3800' '$14300' '$4200' '$2000' '$900' '$3850'\n",
            " '$6500' '$9900' '$4400' '$2300' '$15100' '$15400' '$17200' '$6100'\n",
            " '$11100' '$6900' '$7000' '$22000' '$20200' '$16400' '$16000' '$11800'\n",
            " '$18600' '$14800' '$15200' '$12700' '$18700' '$50250' '$11300' '$2200'\n",
            " '$1700' '$25700' '$16600' '$14500' '$4100' '$13500' '$47250' '$31000'\n",
            " '$24250' '$6300' '$16700' '$5400' '$1625' '$7900' '$12101' '$13400'\n",
            " '$14200' '$33250' '$16200' '$6000' '$42750' '$1000' '$6400' '$21250'\n",
            " '$350' '$18750' '$18300' '$27100' '$31750' '$2600' '$26900' '$9750'\n",
            " '$33900' '$17500' '$21000' '$11500' '$36700' '$36000' '$4900' '$1600'\n",
            " '$15900' '$9600' '$13000' '$22900' '$16500' '$16250' '$24100' '$17250'\n",
            " '$15600' '$30200' '$15300' '$5800' '$5000' '$1400' '$19700' '$2500'\n",
            " '$5600' '$3900' '$1900' '$25200' '$26200' '$41000' '$3600' '$48000'\n",
            " '$24400' '$10500' '$6800' '$25900' '$16800' '$7700' '$21400' '$300'\n",
            " '$25400' '$21600' '$24000' '$28500' '$33300' '$3500' '$4600' '$34700'\n",
            " '$21200' '$10400' '$13250' '$3300' '$2900' '$23800' '$17400' '$19200'\n",
            " '$13300' '$23300' '$27200' '$750' '$18800' '$18400' '$7200' '$22500'\n",
            " '$10200' '$47000' '$25600' '$1200' '$4500' '$19900' '$9300' '$17300'\n",
            " '$4300' '$22200' '$4000' '$35800' '$26600' '$23250' '$15800' '$6250'\n",
            " '$20100' '$12750' '$37600' '$1500' '$24750' '$11001' '$20700' '$45000'\n",
            " '$46250' '$10350' '$11700' '$31250' '$44000' '$9700' '$43300' '$29400'\n",
            " '$7800' '$24300' '$16900' '$7400' '$500' '$5300' '$20800' '$5750'\n",
            " '$27750' '$22400' '$30900' '$2700' '$5700' '$30750' '$32600' '$21700'\n",
            " '$36900' '$26000' '$19250' '$14100' '$43200' '$12200' '$18200' '$3150'\n",
            " '$9400' '$38600' '$55600' '$9250' '$28000' '$21500' '$21100' '$23100'\n",
            " '$12300' '$26250' '$42000' '$18500' '$32200' '$46400' '$17700' '$19100'\n",
            " '$13800' '$14900' '$36750' '$27400' '$35000' '$17100' '$27250' '$12250'\n",
            " '$2950' '$28300' '$8100' '$4750' '$4700' '$31100' '$37100' '$26100'\n",
            " '$21800' '$16100' '$24800' '$23900' '$33200' '$38000' '$1350' '$31600'\n",
            " '$8750' '$19400' '$10100' '$39000' '$23750' '$37000' '$32500' '$1150'\n",
            " '$8800' '$25800' '$11250' '$28250' '$27600' '$37900' '$20750' '$10750'\n",
            " '$28600' '$31800' '$22600' '$225' '$29600' '$19750' '$20250' '$32300'\n",
            " '$50500' '$400' '$29500' '$26500' '$21750' '$12400' '$1800' '$19500'\n",
            " '$6600' '$25250' '$1650' '$30800' '$35900' '$24401' '$18100' '$18250'\n",
            " '$14000' '$600' '$32400' '$20560' '$2550' '$28800' '$24600' '$17350'\n",
            " '$54000' '$37250' '$42500' '$24700' '$63000' '$30250' '$34500' '$32750'\n",
            " '$33500' '$29800' '$39500' '$24500' '$7750' '$22750' '$34100' '$23200'\n",
            " '$325' '$89200' '$29750' '$1050' '$25750' '$8450' '$8501' '$65000'\n",
            " '$43800' '$17750' '$275' '$25100' '$3450' '$28100' '$450' '$16750'\n",
            " '$26800' '$30100' '$6750' '$40400' '$34200' '$23600' '$28200' '$24900'\n",
            " '$33750' '$31200' '$53500' '$68500' '$34300' '$43500' '$200' '$1750'\n",
            " '$33800' '$29000' '$64500' '$650' '$44500' '$7550' '$6625' '$550' '$1550'\n",
            " '$15750' '$44400' '$42250' '$23400' '$22301' '$60000' '$29250' '$35500'\n",
            " '$38500' '$14750' '$22700' '$7363' '$26400' '$28700' '$27900' '$29100'\n",
            " '$34750' '$66000' '$1950' '$850' '$11750' '$26700' '$10250' '$41600'\n",
            " '$54600' '$250' '$31500' '$48250' '$45300' '$3650' '$1850' '$2250'\n",
            " '$27800' '$40200' '$39025' '$34600' '$50750' '$31400' '$29200' '$37750'\n",
            " '$25300' '$10150' '$35400' '$38100' '$30500' '$76500' '$13150' '$39200'\n",
            " '$41800' '$7501' '$53600' '$37500' '$950' '$34400' '$15250' '$47750'\n",
            " '$33000' '$20300' '$28900' '$9101' '$54300' '$55000' '$2325' '$120000'\n",
            " '$30600' '$33400' '$50000' '$3750' '$21900' '$71500' '$20925' '$52000'\n",
            " '$55500' '$2150' '$33700' '$9201' '$10001' '$36800' '$34900' '$67200'\n",
            " '$32250' '$40000' '$30400' '$8250' '$31900' '$33600' '$41250' '$26750'\n",
            " '$49000' '$48800' '$37200' '$46000' '$38900' '$27300' '$54500' '$53000'\n",
            " '$39100' '$34250' '$73600' '$35200' '$36200' '$2720' '$29700' '$43750'\n",
            " '$4250' '$43000' '$57750' '$15590' '$58000' '$48500' '$55800' '$33100'\n",
            " '$37800' '$30050' '$39400' '$36400' '$42400' '$54750' '$2450' '$27700'\n",
            " '$78000' '$84500' '$150' '$61000' '$36300' '$16501' '$2850' '$68000'\n",
            " '$59000' '$41500' '$3350' '$43700' '$35100' '$2350' '$39250' '$3550'\n",
            " '$32900' '$1450' '$9150' '$44800' '$11350' '$35600' '$84000' '$23801'\n",
            " '$39750' '$14250' '$2650' '$32950' '$11301' '$10101' '$40800' '$102000'\n",
            " '$11125' '$35700' '$9490' '$58750' '$4850' '$43100' '$35250' '$51600'\n",
            " '$54200' '$30300' '$49500' '$6275' '$4550' '$41200' '$37400' '$40750'\n",
            " '$14450' '$4650' '$9801' '$35300' '$425' '$10850' '$26300' '$38200'\n",
            " '$38800' '$39600' '$28400' '$34800' '$45200' '$32700' '$12550' '$44100'\n",
            " '$46750' '$10801' '$31300' '$42800' '$10601' '$2750' '$18901' '$9301'\n",
            " '$375' '$41700' '$49200' '$44700' '$47500' '$85500' '$7250' '$58800'\n",
            " '$38250' '$18450' '$48200' '$24725' '$3250' '$38700' '$35750' '$2050'\n",
            " '$42200' '$57250' '$40300' '$69500' '$46500' '$45500' '$40500' '$5150'\n",
            " '$65200' '$28850' '$43600' '$29300' '$47200' '$24350' '$30700' '$70000'\n",
            " '$57000' '$44200' '$14150' '$40025' '$45750' '$69000' '$79200' '$94500'\n",
            " '$41400' '$13550' '$38150' '$64000' '$475' '$17301' '$4150' '$12950'\n",
            " '$36600' '$52200' '$31901' '$7350' '$46300' '$38750' '$72750' '$10501'\n",
            " '$5050' '$56500' '$38400' '$49400' '$117500' '$44750' '$10050' '$45600'\n",
            " '$11850' '$12850' '$37700' '$13195' '$54800' '$15950' '$5450' '$78250'\n",
            " '$22765' '$5650' '$46800' '$28901' '$11901' '$10901' '$59800' '$52750'\n",
            " '$10201' '$87000' '$62500' '$7450' '$175' '$78500' '$12801' '$44600'\n",
            " '$42600' '$26625' '$4050' '$47800' '$11360' '$89000' '$67000' '$39800'\n",
            " '$13650' '$53300' '$15350' '$11401' '$3050' '$22601' '$39900' '$9501'\n",
            " '$8850' '$12050' '$58250' '$230000' '$36100' '$11450' '$43250' '$37440'\n",
            " '$114500' '$39700' '$13350' '$36250' '$34201' '$16901' '$58100' '$49800'\n",
            " '$5250' '$675' '$56300' '$51700' '$48750' '$11650' '$20150' '$96000'\n",
            " '$117000' '$5975' '$9350' '$73000' '$59500' '$40600' '$52600' '$48600'\n",
            " '$3950' '$8601' '$63500' '$77000' '$18625' '$11201' '$11501' '$32100'\n",
            " '$17601' '$6850' '$12301' '$64200' '$38300' '$39300' '$26401' '$42900'\n",
            " '$75800' '$60500' '$9401' '$63250' '$62000' '$16676' '$45400' '$6450'\n",
            " '$76000' '$47600' '$37300' '$60100' '$63750' '$74500' '$53750' '$5350'\n",
            " '$96500' '$14301' '$44900' '$51400' '$28550' '$420' '$11801' '$51100'\n",
            " '$22401' '$46900' '$58500' '$13501' '$131500' '$560' '$27001' '$56750'\n",
            " '$47400' '$59600' '$88800' '$13050' '$45700' '$6350' '$6950' '$42100'\n",
            " '$49100' '$22825' '$40501' '$50700' '$8350' '$27550' '$12001' '$7850'\n",
            " '$11701' '$5950' '$29801' '$14350' '$75000' '$15550' '$88100' '$15601'\n",
            " '$7640' '$8550' '$17450' '$51500' '$26950' '$49700' '$16001' '$29301'\n",
            " '$119000' '$72500' '$30474' '$56100' '$41900' '$15501' '$43400' '$20670'\n",
            " '$41501' '$12601' '$52500' '$16401' '$14550' '$19431' '$875' '$143000'\n",
            " '$41100' '$625' '$53250' '$4950' '$49250' '$64800' '$56200' '$62750'\n",
            " '$8950' '$40100' '$525' '$53800' '$7950' '$13850' '$47100' '$106000'\n",
            " '$20630' '$57500' '$49750' '$23925' '$8901' '$51750' '$6650' '$69100'\n",
            " '$152000' '$10401' '$18501' '$10950' '$99000' '$75500' '$9950' '$101500'\n",
            " '$42300' '$33950' '$21350' '$79000' '$25990' '$12701' '$14050' '$56000'\n",
            " '$57400' '$37150' '$11150' '$17499' '$118000' '$17501' '$32401' '$15901'\n",
            " '$45250' '$52900' '$11101' '$53100' '$86000' '$71000' '$70750' '$8440'\n",
            " '$13901' '$29701' '$46200' '$7901' '$82750' '$4350' '$75400' '$9550'\n",
            " '$90000' '$65500' '$95000' '$12201' '$13620' '$68501' '$12501' '$58400'\n",
            " '$25450' '$71600' '$12401' '$51800' '$90400' '$9701' '$41300' '$13450'\n",
            " '$61800' '$48900' '$11975' '$13801' '$65700' '$25025' '$24301' '$17201'\n",
            " '$91000' '$6150' '$40900' '$11425' '$8801' '$52250' '$14001']\n",
            "\n",
            "saledate: ['Tue Jun 02 2015 02:30:00 GMT-0700 (PDT)'\n",
            " 'Wed Feb 18 2015 07:15:00 GMT-0800 (PST)'\n",
            " 'Tue Jan 20 2015 01:30:00 GMT-0800 (PST)' ...\n",
            " 'Wed Mar 04 2015 01:45:00 GMT-0800 (PST)'\n",
            " 'Wed Jun 17 2015 02:45:00 GMT-0700 (PDT)'\n",
            " 'Tue Apr 28 2015 04:30:00 GMT-0700 (PDT)']\n",
            "\n"
          ]
        }
      ],
      "source": [
        "for col in df.select_dtypes(object).columns:\n",
        "    print(f\"{col}: {df[col].unique()}\\n\")"
      ]
    },
    {
      "cell_type": "code",
      "source": [
        "#Checking for the information in the dataframe and their sums\n",
        "df.info()\n"
      ],
      "metadata": {
        "colab": {
          "base_uri": "https://localhost:8080/"
        },
        "id": "R4LFgu8zBMdi",
        "outputId": "5987e48b-db30-41ec-f1d5-366d271f62b9"
      },
      "execution_count": null,
      "outputs": [
        {
          "output_type": "stream",
          "name": "stdout",
          "text": [
            "<class 'pandas.core.frame.DataFrame'>\n",
            "RangeIndex: 46578 entries, 0 to 46577\n",
            "Data columns (total 16 columns):\n",
            " #   Column        Non-Null Count  Dtype  \n",
            "---  ------        --------------  -----  \n",
            " 0   year          46578 non-null  int64  \n",
            " 1   make          46578 non-null  object \n",
            " 2   model         46578 non-null  object \n",
            " 3   trim          46578 non-null  object \n",
            " 4   body          46578 non-null  object \n",
            " 5   transmission  46578 non-null  object \n",
            " 6   vin           46578 non-null  object \n",
            " 7   state         46578 non-null  object \n",
            " 8   condition     46578 non-null  float64\n",
            " 9   odometer      46578 non-null  object \n",
            " 10  color         46578 non-null  object \n",
            " 11  interior      46578 non-null  object \n",
            " 12  seller        46578 non-null  object \n",
            " 13  mmr           46578 non-null  object \n",
            " 14  sellingprice  46578 non-null  object \n",
            " 15  saledate      46578 non-null  object \n",
            "dtypes: float64(1), int64(1), object(14)\n",
            "memory usage: 5.7+ MB\n"
          ]
        }
      ]
    },
    {
      "cell_type": "code",
      "source": [
        "#Check the top of the data frame\n",
        "df.head()"
      ],
      "metadata": {
        "colab": {
          "base_uri": "https://localhost:8080/",
          "height": 380
        },
        "id": "jTgegUqlFbEq",
        "outputId": "a76218c3-c9dc-46be-fa88-f123c3500251"
      },
      "execution_count": null,
      "outputs": [
        {
          "output_type": "execute_result",
          "data": {
            "text/html": [
              "<div>\n",
              "<style scoped>\n",
              "    .dataframe tbody tr th:only-of-type {\n",
              "        vertical-align: middle;\n",
              "    }\n",
              "\n",
              "    .dataframe tbody tr th {\n",
              "        vertical-align: top;\n",
              "    }\n",
              "\n",
              "    .dataframe thead th {\n",
              "        text-align: right;\n",
              "    }\n",
              "</style>\n",
              "<table border=\"1\" class=\"dataframe\">\n",
              "  <thead>\n",
              "    <tr style=\"text-align: right;\">\n",
              "      <th></th>\n",
              "      <th>year</th>\n",
              "      <th>make</th>\n",
              "      <th>model</th>\n",
              "      <th>trim</th>\n",
              "      <th>body</th>\n",
              "      <th>transmission</th>\n",
              "      <th>vin</th>\n",
              "      <th>state</th>\n",
              "      <th>condition</th>\n",
              "      <th>odometer</th>\n",
              "      <th>color</th>\n",
              "      <th>interior</th>\n",
              "      <th>seller</th>\n",
              "      <th>mmr</th>\n",
              "      <th>sellingprice</th>\n",
              "      <th>saledate</th>\n",
              "    </tr>\n",
              "  </thead>\n",
              "  <tbody>\n",
              "    <tr>\n",
              "      <th>0</th>\n",
              "      <td>2013</td>\n",
              "      <td>Hyundai</td>\n",
              "      <td>Sonata</td>\n",
              "      <td>GLS</td>\n",
              "      <td>sedan</td>\n",
              "      <td>automatic</td>\n",
              "      <td>5npeb4acxdh702805</td>\n",
              "      <td>ma</td>\n",
              "      <td>3.9</td>\n",
              "      <td>50404.0mi</td>\n",
              "      <td>black</td>\n",
              "      <td>gray</td>\n",
              "      <td>the hertz corporation</td>\n",
              "      <td>$11000</td>\n",
              "      <td>$10900</td>\n",
              "      <td>Tue Jun 02 2015 02:30:00 GMT-0700 (PDT)</td>\n",
              "    </tr>\n",
              "    <tr>\n",
              "      <th>1</th>\n",
              "      <td>2014</td>\n",
              "      <td>Toyota</td>\n",
              "      <td>4Runner</td>\n",
              "      <td>SR5</td>\n",
              "      <td>SUV</td>\n",
              "      <td>automatic</td>\n",
              "      <td>jtezu5jr2e5064567</td>\n",
              "      <td>fl</td>\n",
              "      <td>4.9</td>\n",
              "      <td>17846.0mi</td>\n",
              "      <td>gray</td>\n",
              "      <td>—</td>\n",
              "      <td>award auto sales and leasing inc</td>\n",
              "      <td>$28700</td>\n",
              "      <td>$29900</td>\n",
              "      <td>Wed Feb 18 2015 07:15:00 GMT-0800 (PST)</td>\n",
              "    </tr>\n",
              "    <tr>\n",
              "      <th>2</th>\n",
              "      <td>2012</td>\n",
              "      <td>Lexus</td>\n",
              "      <td>IS 250</td>\n",
              "      <td>Base</td>\n",
              "      <td>Sedan</td>\n",
              "      <td>automatic</td>\n",
              "      <td>jthbf5c24c5168599</td>\n",
              "      <td>fl</td>\n",
              "      <td>4.1</td>\n",
              "      <td>21122.0mi</td>\n",
              "      <td>silver</td>\n",
              "      <td>black</td>\n",
              "      <td>lexus financial services</td>\n",
              "      <td>$22200</td>\n",
              "      <td>$24200</td>\n",
              "      <td>Tue Jan 20 2015 01:30:00 GMT-0800 (PST)</td>\n",
              "    </tr>\n",
              "    <tr>\n",
              "      <th>3</th>\n",
              "      <td>2002</td>\n",
              "      <td>BMW</td>\n",
              "      <td>X5</td>\n",
              "      <td>4.4i</td>\n",
              "      <td>SUV</td>\n",
              "      <td>automatic</td>\n",
              "      <td>5uxfb33562lh33864</td>\n",
              "      <td>fl</td>\n",
              "      <td>1.9</td>\n",
              "      <td>145303.0mi</td>\n",
              "      <td>black</td>\n",
              "      <td>black</td>\n",
              "      <td>peddle llc</td>\n",
              "      <td>$3675</td>\n",
              "      <td>$3200</td>\n",
              "      <td>Wed Mar 04 2015 07:10:00 GMT-0800 (PST)</td>\n",
              "    </tr>\n",
              "    <tr>\n",
              "      <th>4</th>\n",
              "      <td>2014</td>\n",
              "      <td>Ford</td>\n",
              "      <td>E-Series Van</td>\n",
              "      <td>E-250</td>\n",
              "      <td>E-Series Van</td>\n",
              "      <td>automatic</td>\n",
              "      <td>1ftne2ew0eda31832</td>\n",
              "      <td>wa</td>\n",
              "      <td>4.9</td>\n",
              "      <td>6714.0mi</td>\n",
              "      <td>white</td>\n",
              "      <td>gray</td>\n",
              "      <td>u-haul</td>\n",
              "      <td>$22500</td>\n",
              "      <td>$22100</td>\n",
              "      <td>Wed Feb 18 2015 06:45:00 GMT-0800 (PST)</td>\n",
              "    </tr>\n",
              "  </tbody>\n",
              "</table>\n",
              "</div>"
            ],
            "text/plain": [
              "   year     make  ... sellingprice                                 saledate\n",
              "0  2013  Hyundai  ...       $10900  Tue Jun 02 2015 02:30:00 GMT-0700 (PDT)\n",
              "1  2014   Toyota  ...       $29900  Wed Feb 18 2015 07:15:00 GMT-0800 (PST)\n",
              "2  2012    Lexus  ...       $24200  Tue Jan 20 2015 01:30:00 GMT-0800 (PST)\n",
              "3  2002      BMW  ...        $3200  Wed Mar 04 2015 07:10:00 GMT-0800 (PST)\n",
              "4  2014     Ford  ...       $22100  Wed Feb 18 2015 06:45:00 GMT-0800 (PST)\n",
              "\n",
              "[5 rows x 16 columns]"
            ]
          },
          "metadata": {},
          "execution_count": 6
        }
      ]
    },
    {
      "cell_type": "code",
      "source": [
        "#Checking the last entries in the dataframe\n",
        "df.tail()"
      ],
      "metadata": {
        "colab": {
          "base_uri": "https://localhost:8080/",
          "height": 293
        },
        "id": "pbruo167Ff5Q",
        "outputId": "26421efd-e7a0-4c04-dddb-f97259282e80"
      },
      "execution_count": null,
      "outputs": [
        {
          "output_type": "execute_result",
          "data": {
            "text/html": [
              "<div>\n",
              "<style scoped>\n",
              "    .dataframe tbody tr th:only-of-type {\n",
              "        vertical-align: middle;\n",
              "    }\n",
              "\n",
              "    .dataframe tbody tr th {\n",
              "        vertical-align: top;\n",
              "    }\n",
              "\n",
              "    .dataframe thead th {\n",
              "        text-align: right;\n",
              "    }\n",
              "</style>\n",
              "<table border=\"1\" class=\"dataframe\">\n",
              "  <thead>\n",
              "    <tr style=\"text-align: right;\">\n",
              "      <th></th>\n",
              "      <th>year</th>\n",
              "      <th>make</th>\n",
              "      <th>model</th>\n",
              "      <th>trim</th>\n",
              "      <th>body</th>\n",
              "      <th>transmission</th>\n",
              "      <th>vin</th>\n",
              "      <th>state</th>\n",
              "      <th>condition</th>\n",
              "      <th>odometer</th>\n",
              "      <th>color</th>\n",
              "      <th>interior</th>\n",
              "      <th>seller</th>\n",
              "      <th>mmr</th>\n",
              "      <th>sellingprice</th>\n",
              "      <th>saledate</th>\n",
              "    </tr>\n",
              "  </thead>\n",
              "  <tbody>\n",
              "    <tr>\n",
              "      <th>46572</th>\n",
              "      <td>2006</td>\n",
              "      <td>Volvo</td>\n",
              "      <td>S40</td>\n",
              "      <td>2.4i</td>\n",
              "      <td>Sedan</td>\n",
              "      <td>automatic</td>\n",
              "      <td>yv1ms390462186357</td>\n",
              "      <td>ca</td>\n",
              "      <td>3.8</td>\n",
              "      <td>56993.0</td>\n",
              "      <td>gray</td>\n",
              "      <td>gray</td>\n",
              "      <td>prestige auto wholesale inc</td>\n",
              "      <td>6350</td>\n",
              "      <td>7000</td>\n",
              "      <td>Tue May 26 2015 05:30:00 GMT-0700 (PDT)</td>\n",
              "    </tr>\n",
              "    <tr>\n",
              "      <th>46574</th>\n",
              "      <td>2012</td>\n",
              "      <td>Infiniti</td>\n",
              "      <td>G Sedan</td>\n",
              "      <td>G37 Journey</td>\n",
              "      <td>Sedan</td>\n",
              "      <td>automatic</td>\n",
              "      <td>jn1cv6ap9cm623162</td>\n",
              "      <td>ca</td>\n",
              "      <td>4.5</td>\n",
              "      <td>23185.0</td>\n",
              "      <td>black</td>\n",
              "      <td>black</td>\n",
              "      <td>nissan infiniti lt</td>\n",
              "      <td>19350</td>\n",
              "      <td>21500</td>\n",
              "      <td>Thu Jun 18 2015 05:30:00 GMT-0700 (PDT)</td>\n",
              "    </tr>\n",
              "    <tr>\n",
              "      <th>46575</th>\n",
              "      <td>2013</td>\n",
              "      <td>BMW</td>\n",
              "      <td>3 Series</td>\n",
              "      <td>328i</td>\n",
              "      <td>Sedan</td>\n",
              "      <td>automatic</td>\n",
              "      <td>wba3a5c56df356614</td>\n",
              "      <td>tx</td>\n",
              "      <td>4.2</td>\n",
              "      <td>45357.0</td>\n",
              "      <td>white</td>\n",
              "      <td>beige</td>\n",
              "      <td>motorcars of south texas</td>\n",
              "      <td>22200</td>\n",
              "      <td>22000</td>\n",
              "      <td>Wed Feb 18 2015 02:00:00 GMT-0800 (PST)</td>\n",
              "    </tr>\n",
              "    <tr>\n",
              "      <th>46576</th>\n",
              "      <td>2013</td>\n",
              "      <td>Toyota</td>\n",
              "      <td>Camry</td>\n",
              "      <td>LE</td>\n",
              "      <td>Sedan</td>\n",
              "      <td>automatic</td>\n",
              "      <td>4t1bf1fk8du254684</td>\n",
              "      <td>ca</td>\n",
              "      <td>3.5</td>\n",
              "      <td>43376.0</td>\n",
              "      <td>black</td>\n",
              "      <td>beige</td>\n",
              "      <td>avis rac/san leandro</td>\n",
              "      <td>13400</td>\n",
              "      <td>13800</td>\n",
              "      <td>Wed Jan 14 2015 04:30:00 GMT-0800 (PST)</td>\n",
              "    </tr>\n",
              "    <tr>\n",
              "      <th>46577</th>\n",
              "      <td>2013</td>\n",
              "      <td>Kia</td>\n",
              "      <td>Rio</td>\n",
              "      <td>LX</td>\n",
              "      <td>Sedan</td>\n",
              "      <td>automatic</td>\n",
              "      <td>knadm4a32d6164825</td>\n",
              "      <td>ga</td>\n",
              "      <td>4.1</td>\n",
              "      <td>49953.0</td>\n",
              "      <td>silver</td>\n",
              "      <td>black</td>\n",
              "      <td>kia motors finance</td>\n",
              "      <td>9700</td>\n",
              "      <td>9300</td>\n",
              "      <td>Thu Dec 18 2014 10:00:00 GMT-0800 (PST)</td>\n",
              "    </tr>\n",
              "  </tbody>\n",
              "</table>\n",
              "</div>"
            ],
            "text/plain": [
              "       year      make  ... sellingprice                                 saledate\n",
              "46572  2006     Volvo  ...         7000  Tue May 26 2015 05:30:00 GMT-0700 (PDT)\n",
              "46574  2012  Infiniti  ...        21500  Thu Jun 18 2015 05:30:00 GMT-0700 (PDT)\n",
              "46575  2013       BMW  ...        22000  Wed Feb 18 2015 02:00:00 GMT-0800 (PST)\n",
              "46576  2013    Toyota  ...        13800  Wed Jan 14 2015 04:30:00 GMT-0800 (PST)\n",
              "46577  2013       Kia  ...         9300  Thu Dec 18 2014 10:00:00 GMT-0800 (PST)\n",
              "\n",
              "[5 rows x 16 columns]"
            ]
          },
          "metadata": {},
          "execution_count": 27
        }
      ]
    },
    {
      "cell_type": "markdown",
      "metadata": {
        "id": "U_d1Sy7ifXTV"
      },
      "source": [
        "## Data Pre-Processing & Cleaning\n",
        "\n",
        "1.   List item\n",
        "2.   List item\n",
        "\n",
        "\n",
        "\n",
        "_Apply any data preprocessing and/or feature engineering below. Show/output the changes to the dataset._"
      ]
    },
    {
      "cell_type": "code",
      "source": [
        "#Capitalizing the first letter for formating\n",
        "df['body'] = df['body'].str.capitalize()\n",
        "df"
      ],
      "metadata": {
        "colab": {
          "base_uri": "https://localhost:8080/",
          "height": 770
        },
        "id": "ZcwzJ8yDLbZL",
        "outputId": "a40ffee3-bfd1-4045-bc5e-2b02cef4e3eb"
      },
      "execution_count": null,
      "outputs": [
        {
          "output_type": "execute_result",
          "data": {
            "text/html": [
              "<div>\n",
              "<style scoped>\n",
              "    .dataframe tbody tr th:only-of-type {\n",
              "        vertical-align: middle;\n",
              "    }\n",
              "\n",
              "    .dataframe tbody tr th {\n",
              "        vertical-align: top;\n",
              "    }\n",
              "\n",
              "    .dataframe thead th {\n",
              "        text-align: right;\n",
              "    }\n",
              "</style>\n",
              "<table border=\"1\" class=\"dataframe\">\n",
              "  <thead>\n",
              "    <tr style=\"text-align: right;\">\n",
              "      <th></th>\n",
              "      <th>year</th>\n",
              "      <th>make</th>\n",
              "      <th>model</th>\n",
              "      <th>trim</th>\n",
              "      <th>body</th>\n",
              "      <th>transmission</th>\n",
              "      <th>vin</th>\n",
              "      <th>state</th>\n",
              "      <th>condition</th>\n",
              "      <th>odometer</th>\n",
              "      <th>color</th>\n",
              "      <th>interior</th>\n",
              "      <th>seller</th>\n",
              "      <th>mmr</th>\n",
              "      <th>sellingprice</th>\n",
              "      <th>saledate</th>\n",
              "    </tr>\n",
              "  </thead>\n",
              "  <tbody>\n",
              "    <tr>\n",
              "      <th>0</th>\n",
              "      <td>2013</td>\n",
              "      <td>Hyundai</td>\n",
              "      <td>Sonata</td>\n",
              "      <td>GLS</td>\n",
              "      <td>Sedan</td>\n",
              "      <td>automatic</td>\n",
              "      <td>5npeb4acxdh702805</td>\n",
              "      <td>ma</td>\n",
              "      <td>3.9</td>\n",
              "      <td>50404.0mi</td>\n",
              "      <td>black</td>\n",
              "      <td>gray</td>\n",
              "      <td>the hertz corporation</td>\n",
              "      <td>$11000</td>\n",
              "      <td>$10900</td>\n",
              "      <td>Tue Jun 02 2015 02:30:00 GMT-0700 (PDT)</td>\n",
              "    </tr>\n",
              "    <tr>\n",
              "      <th>1</th>\n",
              "      <td>2014</td>\n",
              "      <td>Toyota</td>\n",
              "      <td>4Runner</td>\n",
              "      <td>SR5</td>\n",
              "      <td>Suv</td>\n",
              "      <td>automatic</td>\n",
              "      <td>jtezu5jr2e5064567</td>\n",
              "      <td>fl</td>\n",
              "      <td>4.9</td>\n",
              "      <td>17846.0mi</td>\n",
              "      <td>gray</td>\n",
              "      <td>—</td>\n",
              "      <td>award auto sales and leasing inc</td>\n",
              "      <td>$28700</td>\n",
              "      <td>$29900</td>\n",
              "      <td>Wed Feb 18 2015 07:15:00 GMT-0800 (PST)</td>\n",
              "    </tr>\n",
              "    <tr>\n",
              "      <th>2</th>\n",
              "      <td>2012</td>\n",
              "      <td>Lexus</td>\n",
              "      <td>IS 250</td>\n",
              "      <td>Base</td>\n",
              "      <td>Sedan</td>\n",
              "      <td>automatic</td>\n",
              "      <td>jthbf5c24c5168599</td>\n",
              "      <td>fl</td>\n",
              "      <td>4.1</td>\n",
              "      <td>21122.0mi</td>\n",
              "      <td>silver</td>\n",
              "      <td>black</td>\n",
              "      <td>lexus financial services</td>\n",
              "      <td>$22200</td>\n",
              "      <td>$24200</td>\n",
              "      <td>Tue Jan 20 2015 01:30:00 GMT-0800 (PST)</td>\n",
              "    </tr>\n",
              "    <tr>\n",
              "      <th>3</th>\n",
              "      <td>2002</td>\n",
              "      <td>BMW</td>\n",
              "      <td>X5</td>\n",
              "      <td>4.4i</td>\n",
              "      <td>Suv</td>\n",
              "      <td>automatic</td>\n",
              "      <td>5uxfb33562lh33864</td>\n",
              "      <td>fl</td>\n",
              "      <td>1.9</td>\n",
              "      <td>145303.0mi</td>\n",
              "      <td>black</td>\n",
              "      <td>black</td>\n",
              "      <td>peddle llc</td>\n",
              "      <td>$3675</td>\n",
              "      <td>$3200</td>\n",
              "      <td>Wed Mar 04 2015 07:10:00 GMT-0800 (PST)</td>\n",
              "    </tr>\n",
              "    <tr>\n",
              "      <th>4</th>\n",
              "      <td>2014</td>\n",
              "      <td>Ford</td>\n",
              "      <td>E-Series Van</td>\n",
              "      <td>E-250</td>\n",
              "      <td>E-series van</td>\n",
              "      <td>automatic</td>\n",
              "      <td>1ftne2ew0eda31832</td>\n",
              "      <td>wa</td>\n",
              "      <td>4.9</td>\n",
              "      <td>6714.0mi</td>\n",
              "      <td>white</td>\n",
              "      <td>gray</td>\n",
              "      <td>u-haul</td>\n",
              "      <td>$22500</td>\n",
              "      <td>$22100</td>\n",
              "      <td>Wed Feb 18 2015 06:45:00 GMT-0800 (PST)</td>\n",
              "    </tr>\n",
              "    <tr>\n",
              "      <th>...</th>\n",
              "      <td>...</td>\n",
              "      <td>...</td>\n",
              "      <td>...</td>\n",
              "      <td>...</td>\n",
              "      <td>...</td>\n",
              "      <td>...</td>\n",
              "      <td>...</td>\n",
              "      <td>...</td>\n",
              "      <td>...</td>\n",
              "      <td>...</td>\n",
              "      <td>...</td>\n",
              "      <td>...</td>\n",
              "      <td>...</td>\n",
              "      <td>...</td>\n",
              "      <td>...</td>\n",
              "      <td>...</td>\n",
              "    </tr>\n",
              "    <tr>\n",
              "      <th>46573</th>\n",
              "      <td>2013</td>\n",
              "      <td>Ford</td>\n",
              "      <td>Edge</td>\n",
              "      <td>SE</td>\n",
              "      <td>Suv</td>\n",
              "      <td>automatic</td>\n",
              "      <td>2fmdk4gc2dbc03247</td>\n",
              "      <td>va</td>\n",
              "      <td>3.5</td>\n",
              "      <td>52844.0mi</td>\n",
              "      <td>—</td>\n",
              "      <td>gray</td>\n",
              "      <td>wheels exchange llc</td>\n",
              "      <td>$15650</td>\n",
              "      <td>$17000</td>\n",
              "      <td>Wed Jan 07 2015 09:30:00 GMT-0800 (PST)</td>\n",
              "    </tr>\n",
              "    <tr>\n",
              "      <th>46574</th>\n",
              "      <td>2012</td>\n",
              "      <td>Infiniti</td>\n",
              "      <td>G Sedan</td>\n",
              "      <td>G37 Journey</td>\n",
              "      <td>G sedan</td>\n",
              "      <td>automatic</td>\n",
              "      <td>jn1cv6ap9cm623162</td>\n",
              "      <td>ca</td>\n",
              "      <td>4.5</td>\n",
              "      <td>23185.0mi</td>\n",
              "      <td>black</td>\n",
              "      <td>black</td>\n",
              "      <td>nissan infiniti lt</td>\n",
              "      <td>$19350</td>\n",
              "      <td>$21500</td>\n",
              "      <td>Thu Jun 18 2015 05:30:00 GMT-0700 (PDT)</td>\n",
              "    </tr>\n",
              "    <tr>\n",
              "      <th>46575</th>\n",
              "      <td>2013</td>\n",
              "      <td>BMW</td>\n",
              "      <td>3 Series</td>\n",
              "      <td>328i</td>\n",
              "      <td>Sedan</td>\n",
              "      <td>automatic</td>\n",
              "      <td>wba3a5c56df356614</td>\n",
              "      <td>tx</td>\n",
              "      <td>4.2</td>\n",
              "      <td>45357.0mi</td>\n",
              "      <td>white</td>\n",
              "      <td>beige</td>\n",
              "      <td>motorcars of south texas</td>\n",
              "      <td>$22200</td>\n",
              "      <td>$22000</td>\n",
              "      <td>Wed Feb 18 2015 02:00:00 GMT-0800 (PST)</td>\n",
              "    </tr>\n",
              "    <tr>\n",
              "      <th>46576</th>\n",
              "      <td>2013</td>\n",
              "      <td>Toyota</td>\n",
              "      <td>Camry</td>\n",
              "      <td>LE</td>\n",
              "      <td>Sedan</td>\n",
              "      <td>automatic</td>\n",
              "      <td>4t1bf1fk8du254684</td>\n",
              "      <td>ca</td>\n",
              "      <td>3.5</td>\n",
              "      <td>43376.0mi</td>\n",
              "      <td>black</td>\n",
              "      <td>beige</td>\n",
              "      <td>avis rac/san leandro</td>\n",
              "      <td>$13400</td>\n",
              "      <td>$13800</td>\n",
              "      <td>Wed Jan 14 2015 04:30:00 GMT-0800 (PST)</td>\n",
              "    </tr>\n",
              "    <tr>\n",
              "      <th>46577</th>\n",
              "      <td>2013</td>\n",
              "      <td>Kia</td>\n",
              "      <td>Rio</td>\n",
              "      <td>LX</td>\n",
              "      <td>Sedan</td>\n",
              "      <td>automatic</td>\n",
              "      <td>knadm4a32d6164825</td>\n",
              "      <td>ga</td>\n",
              "      <td>4.1</td>\n",
              "      <td>49953.0mi</td>\n",
              "      <td>silver</td>\n",
              "      <td>black</td>\n",
              "      <td>kia motors finance</td>\n",
              "      <td>$9700</td>\n",
              "      <td>$9300</td>\n",
              "      <td>Thu Dec 18 2014 10:00:00 GMT-0800 (PST)</td>\n",
              "    </tr>\n",
              "  </tbody>\n",
              "</table>\n",
              "<p>46578 rows × 16 columns</p>\n",
              "</div>"
            ],
            "text/plain": [
              "       year      make  ... sellingprice                                 saledate\n",
              "0      2013   Hyundai  ...       $10900  Tue Jun 02 2015 02:30:00 GMT-0700 (PDT)\n",
              "1      2014    Toyota  ...       $29900  Wed Feb 18 2015 07:15:00 GMT-0800 (PST)\n",
              "2      2012     Lexus  ...       $24200  Tue Jan 20 2015 01:30:00 GMT-0800 (PST)\n",
              "3      2002       BMW  ...        $3200  Wed Mar 04 2015 07:10:00 GMT-0800 (PST)\n",
              "4      2014      Ford  ...       $22100  Wed Feb 18 2015 06:45:00 GMT-0800 (PST)\n",
              "...     ...       ...  ...          ...                                      ...\n",
              "46573  2013      Ford  ...       $17000  Wed Jan 07 2015 09:30:00 GMT-0800 (PST)\n",
              "46574  2012  Infiniti  ...       $21500  Thu Jun 18 2015 05:30:00 GMT-0700 (PDT)\n",
              "46575  2013       BMW  ...       $22000  Wed Feb 18 2015 02:00:00 GMT-0800 (PST)\n",
              "46576  2013    Toyota  ...       $13800  Wed Jan 14 2015 04:30:00 GMT-0800 (PST)\n",
              "46577  2013       Kia  ...        $9300  Thu Dec 18 2014 10:00:00 GMT-0800 (PST)\n",
              "\n",
              "[46578 rows x 16 columns]"
            ]
          },
          "metadata": {},
          "execution_count": 8
        }
      ]
    },
    {
      "cell_type": "code",
      "source": [
        "#Removing 'mi'\n",
        "df['odometer'] = df['odometer'].str.strip('mi')"
      ],
      "metadata": {
        "id": "kXuV3K1rbF1e"
      },
      "execution_count": null,
      "outputs": []
    },
    {
      "cell_type": "code",
      "source": [
        "#Changing type to float\n",
        "df['odometer'] = df['odometer'].astype(float)\n"
      ],
      "metadata": {
        "id": "ICYutw3leTav"
      },
      "execution_count": null,
      "outputs": []
    },
    {
      "cell_type": "code",
      "source": [
        "#Removing '$'\n",
        "df['mmr'] = df['mmr'].str.strip('$')"
      ],
      "metadata": {
        "id": "PTM6Aa3edguS"
      },
      "execution_count": null,
      "outputs": []
    },
    {
      "cell_type": "code",
      "source": [
        "df['mmr'] = df['mmr'].astype(int)\n",
        "#Changing type to int"
      ],
      "metadata": {
        "id": "VZ4SfvwYecrB"
      },
      "execution_count": null,
      "outputs": []
    },
    {
      "cell_type": "code",
      "source": [
        "df['sellingprice'] = df['sellingprice'].str.strip('$')\n",
        "#Removing '$'"
      ],
      "metadata": {
        "id": "jwjhZI5Wdouj"
      },
      "execution_count": null,
      "outputs": []
    },
    {
      "cell_type": "code",
      "source": [
        "df['sellingprice'] = df['sellingprice'].astype(int)\n",
        "#Changing type to int"
      ],
      "metadata": {
        "id": "--LD5LoVeec6"
      },
      "execution_count": null,
      "outputs": []
    },
    {
      "cell_type": "code",
      "execution_count": null,
      "metadata": {
        "id": "6Z5PogopfXTV"
      },
      "outputs": [],
      "source": [
        "for col in df.select_dtypes(object).columns:\n",
        "    df[col] = df[col].str.strip()\n",
        "\n",
        "    df[col] = df[col].replace('—', np.NaN, regex=False)\n",
        "#Changing '-' to nulls    "
      ]
    },
    {
      "cell_type": "code",
      "source": [
        "df.isnull().sum()"
      ],
      "metadata": {
        "colab": {
          "base_uri": "https://localhost:8080/"
        },
        "id": "qBTsWZ9-M246",
        "outputId": "de484b85-49ac-44f6-a83c-3678d05c851d"
      },
      "execution_count": null,
      "outputs": [
        {
          "output_type": "execute_result",
          "data": {
            "text/plain": [
              "year               0\n",
              "make               0\n",
              "model              0\n",
              "trim               0\n",
              "body               0\n",
              "transmission       0\n",
              "vin                0\n",
              "state              0\n",
              "condition          0\n",
              "odometer           0\n",
              "color           2246\n",
              "interior         988\n",
              "seller             0\n",
              "mmr                0\n",
              "sellingprice       0\n",
              "saledate           0\n",
              "dtype: int64"
            ]
          },
          "metadata": {},
          "execution_count": 17
        }
      ]
    },
    {
      "cell_type": "code",
      "source": [
        "df.isnull().sum() / len(df) * 100"
      ],
      "metadata": {
        "colab": {
          "base_uri": "https://localhost:8080/"
        },
        "id": "0rShlzfJCuQx",
        "outputId": "b2b8d626-8593-49f1-deda-5f5ba3894bb3"
      },
      "execution_count": null,
      "outputs": [
        {
          "output_type": "execute_result",
          "data": {
            "text/plain": [
              "year            0.000000\n",
              "make            0.000000\n",
              "model           0.000000\n",
              "trim            0.000000\n",
              "body            0.000000\n",
              "transmission    0.000000\n",
              "vin             0.000000\n",
              "state           0.000000\n",
              "condition       0.000000\n",
              "odometer        0.000000\n",
              "color           4.822019\n",
              "interior        2.121173\n",
              "seller          0.000000\n",
              "mmr             0.000000\n",
              "sellingprice    0.000000\n",
              "saledate        0.000000\n",
              "dtype: float64"
            ]
          },
          "metadata": {},
          "execution_count": 18
        }
      ]
    },
    {
      "cell_type": "code",
      "source": [
        "df = df.dropna()\n",
        "df.dropna().isnull().sum()\n",
        "#Dropping the nulls"
      ],
      "metadata": {
        "colab": {
          "base_uri": "https://localhost:8080/"
        },
        "id": "IMov-LWbCy9s",
        "outputId": "f601da31-7a07-493f-aad6-11001c463961"
      },
      "execution_count": null,
      "outputs": [
        {
          "output_type": "execute_result",
          "data": {
            "text/plain": [
              "year            0\n",
              "make            0\n",
              "model           0\n",
              "trim            0\n",
              "body            0\n",
              "transmission    0\n",
              "vin             0\n",
              "state           0\n",
              "condition       0\n",
              "odometer        0\n",
              "color           0\n",
              "interior        0\n",
              "seller          0\n",
              "mmr             0\n",
              "sellingprice    0\n",
              "saledate        0\n",
              "dtype: int64"
            ]
          },
          "metadata": {},
          "execution_count": 19
        }
      ]
    },
    {
      "cell_type": "code",
      "source": [
        "df.loc[df['body'].str.contains('sedan', case = False), 'body'] = 'Sedan'\n",
        "df.loc[df['body'].str.contains('suv', case = False), 'body'] = 'SUV'\n",
        "df.loc[df['body'].str.contains('van', case = False), 'body'] = 'Mini-Van'\n",
        "df.loc[df['body'].str.contains('cab', case = False), 'body'] = 'Pickup Truck'\n",
        "df.loc[df['body'].str.contains('SuperCrew', case = False), 'body'] = 'Pickup Truck'\n",
        "df.loc[df['body'].str.contains('wagon', case = False), 'body'] = 'Wagon'\n",
        "df.loc[df['body'].str.contains('hatchback', case = False), 'body'] = 'Hatchback'\n",
        "df.loc[df['body'].str.contains('convertible', case = False), 'body'] = 'Convertible'\n",
        "df.loc[df['body'].str.contains('coupe', case = False), 'body'] = 'Coupe'\n",
        "df.loc[df['body'].str.contains('Koup', case = False), 'body'] = 'Coupe'\n",
        "\n",
        "#Categorizing the body into 8 main types"
      ],
      "metadata": {
        "colab": {
          "base_uri": "https://localhost:8080/"
        },
        "id": "IywkkIOVh_a7",
        "outputId": "b0dfb07a-f8ff-4016-cc87-52ec22214906"
      },
      "execution_count": null,
      "outputs": [
        {
          "output_type": "stream",
          "name": "stderr",
          "text": [
            "/usr/local/lib/python3.7/dist-packages/pandas/core/indexing.py:1763: SettingWithCopyWarning: \n",
            "A value is trying to be set on a copy of a slice from a DataFrame.\n",
            "Try using .loc[row_indexer,col_indexer] = value instead\n",
            "\n",
            "See the caveats in the documentation: https://pandas.pydata.org/pandas-docs/stable/user_guide/indexing.html#returning-a-view-versus-a-copy\n",
            "  isetter(loc, value)\n"
          ]
        }
      ]
    },
    {
      "cell_type": "markdown",
      "metadata": {
        "id": "Rur5iWqnfXTW"
      },
      "source": [
        "## Exploratory Data Analysis\n"
      ]
    },
    {
      "cell_type": "markdown",
      "metadata": {
        "id": "T6BnTMVtfXTX"
      },
      "source": [
        "**Q0 (example): What is the most popular car exterior color?**\n"
      ]
    },
    {
      "cell_type": "code",
      "source": [
        ""
      ],
      "metadata": {
        "id": "ug5RuQiIGfb1"
      },
      "execution_count": null,
      "outputs": []
    },
    {
      "cell_type": "markdown",
      "metadata": {
        "id": "sVfkolmmfXTX"
      },
      "source": [
        "**Visualization**"
      ]
    },
    {
      "cell_type": "code",
      "execution_count": null,
      "metadata": {
        "id": "K-TEVXGIfXTY",
        "outputId": "6d4eb512-afe1-4104-fa65-8303db223e12",
        "colab": {
          "base_uri": "https://localhost:8080/",
          "height": 296
        }
      },
      "outputs": [
        {
          "output_type": "execute_result",
          "data": {
            "text/plain": [
              "<matplotlib.axes._subplots.AxesSubplot at 0x7f936fde5e90>"
            ]
          },
          "metadata": {},
          "execution_count": 9
        },
        {
          "output_type": "display_data",
          "data": {
            "image/png": "[encoded data removed]",
            "text/plain": [
              "<Figure size 432x288 with 1 Axes>"
            ]
          },
          "metadata": {
            "needs_background": "light"
          }
        }
      ],
      "source": [
        "# Basic, minimal plot example\n",
        "sns.countplot(x='color', data=df)"
      ]
    },
    {
      "cell_type": "code",
      "execution_count": null,
      "metadata": {
        "id": "lD8RPjpxfXTY",
        "outputId": "6208e654-ba86-4849-d961-20acd6626a60",
        "colab": {
          "base_uri": "https://localhost:8080/",
          "height": 297
        }
      },
      "outputs": [
        {
          "output_type": "display_data",
          "data": {
            "image/png": "[encoded data removed]",
            "text/plain": [
              "<Figure size 432x288 with 1 Axes>"
            ]
          },
          "metadata": {
            "needs_background": "light"
          }
        }
      ],
      "source": [
        "# Much better plot, with sorting in descending order, rotated x-axis labels for clarity, and a plot title\n",
        "# Your visualizations should be neatly presented like the example below.\n",
        "\n",
        "\n",
        "large_to_small = df.groupby('color').size().sort_values(ascending=False)\n",
        "sns.countplot(x='color', data=df, order=large_to_small.index).set(title='Most popular colors sold on the used car auction market')\n",
        "plt.xticks(rotation=90)\n",
        "plt.tight_layout()"
      ]
    },
    {
      "cell_type": "markdown",
      "metadata": {
        "id": "9EQCy_RMfXTZ"
      },
      "source": [
        "**Example note:** _you need to answer using a visualization (above) and a written/text answer (below)._\n",
        "\n",
        "**Answer for Q0**: Black is the most popular exterior color of used cars sold in auctions, followed very closely by white."
      ]
    },
    {
      "cell_type": "markdown",
      "metadata": {
        "id": "Uvo70tl1fXTZ"
      },
      "source": [
        "**Q1: What are the most popular car brands? (mention at least 3)**\n"
      ]
    },
    {
      "cell_type": "markdown",
      "metadata": {
        "id": "-SoXENyXfXTZ"
      },
      "source": [
        "**Visualization**"
      ]
    },
    {
      "cell_type": "code",
      "execution_count": null,
      "metadata": {
        "id": "T-66nuiJfXTa",
        "colab": {
          "base_uri": "https://localhost:8080/",
          "height": 405
        },
        "outputId": "27a8efc0-d4a4-46d6-d589-a4f4c2bff675"
      },
      "outputs": [
        {
          "output_type": "display_data",
          "data": {
            "image/png": "[encoded data removed]",
            "text/plain": [
              "<Figure size 576x396 with 1 Axes>"
            ]
          },
          "metadata": {}
        }
      ],
      "source": [
        "\n",
        "large_to_small = df.groupby('make').size().sort_values(ascending=False)\n",
        "sns.countplot(x='make', data=df, order=large_to_small.index).set(title='Most popular car brands sold on the used car auction market')\n",
        "plt.xticks(rotation=90)\n",
        "plt.tight_layout()\n",
        "\n",
        "#Choosing the bar chart for visualisation"
      ]
    },
    {
      "cell_type": "markdown",
      "metadata": {
        "id": "iQjEmKIyfXTa"
      },
      "source": [
        "**Answer for Q1**: Ford, Chevrolet, nissan , Toyota"
      ]
    },
    {
      "cell_type": "markdown",
      "metadata": {
        "id": "ScO4oNRIfXTa"
      },
      "source": [
        "**Q2: Do automatic cars, on average, sell for a higher price than manual cars?**\n"
      ]
    },
    {
      "cell_type": "markdown",
      "metadata": {
        "id": "1zpBJvesfXTb"
      },
      "source": [
        "**Visualization**"
      ]
    },
    {
      "cell_type": "code",
      "execution_count": null,
      "metadata": {
        "id": "VqPEiBb-fXTb",
        "colab": {
          "base_uri": "https://localhost:8080/",
          "height": 406
        },
        "outputId": "d86ef656-83b2-4852-8b31-ae422efc127a"
      },
      "outputs": [
        {
          "output_type": "execute_result",
          "data": {
            "text/plain": [
              "<matplotlib.axes._subplots.AxesSubplot at 0x7f25baed2310>"
            ]
          },
          "metadata": {},
          "execution_count": 31
        },
        {
          "output_type": "display_data",
          "data": {
            "image/png": "[encoded data removed]",
            "text/plain": [
              "<Figure size 648x432 with 1 Axes>"
            ]
          },
          "metadata": {}
        }
      ],
      "source": [
        "f = plt.figure(figsize=(9,6))\n",
        "sns.violinplot(x='transmission', y='sellingprice', data=df, palette='Wistia')\n",
        "#Choosing the Violin plot for visualisation"
      ]
    },
    {
      "cell_type": "markdown",
      "metadata": {
        "id": "j2qDcXlNfXTb"
      },
      "source": [
        "**Answer for Q2**: Automatic transmissions averages a higher selling price than manual transmissions"
      ]
    },
    {
      "cell_type": "markdown",
      "metadata": {
        "id": "2cpPRF49fXTc"
      },
      "source": [
        "**Q3: Draw a box plot showing the distribution of the selling prices of each car make. Which car makes have the widest distribution of selling price (name two)? Which are the most expensive (name two)?**\n"
      ]
    },
    {
      "cell_type": "markdown",
      "metadata": {
        "id": "qk65-MpDfXTc"
      },
      "source": [
        "**Visualization**"
      ]
    },
    {
      "cell_type": "code",
      "execution_count": null,
      "metadata": {
        "id": "AFp70H8vfXTc",
        "colab": {
          "base_uri": "https://localhost:8080/",
          "height": 720
        },
        "outputId": "2ec442d8-bb23-41a0-922f-a715339cd95c"
      },
      "outputs": [
        {
          "output_type": "display_data",
          "data": {
            "image/png": "[encoded data removed]",
            "text/plain": [
              "<Figure size 1440x720 with 1 Axes>"
            ]
          },
          "metadata": {}
        }
      ],
      "source": [
        "\n",
        "f= plt.figure(figsize= (20,10))\n",
        "sns.boxplot(x='make', y=\"sellingprice\", data=df)\n",
        "plt.xticks(rotation=90)\n",
        "plt.tight_layout()\n",
        "\n",
        "#Choosing the box plot for visualisation"
      ]
    },
    {
      "cell_type": "markdown",
      "metadata": {
        "id": "HEidz0PQfXTc"
      },
      "source": [
        "**Answer for Q3**: The most expensive cars are Ford and Ferrari, while the top 2 cars distribution are Porsche and Jaguar "
      ]
    },
    {
      "cell_type": "markdown",
      "metadata": {
        "id": "9_9LomkPfXTc"
      },
      "source": [
        "**Q4: How correlated is the odometer reading or mileage with the car's sale price? (Hint: plot a line of best fit.)**"
      ]
    },
    {
      "cell_type": "markdown",
      "metadata": {
        "id": "SMBIE85ufXTd"
      },
      "source": [
        "**Visualization**"
      ]
    },
    {
      "cell_type": "code",
      "execution_count": null,
      "metadata": {
        "id": "UIOXwL-zfXTd",
        "colab": {
          "base_uri": "https://localhost:8080/",
          "height": 585
        },
        "outputId": "c229265f-180c-4027-bcae-d717d02c21f3"
      },
      "outputs": [
        {
          "output_type": "display_data",
          "data": {
            "image/png": "[encoded data removed]",
            "text/plain": [
              "<Figure size 576x576 with 1 Axes>"
            ]
          },
          "metadata": {
            "needs_background": "light"
          }
        }
      ],
      "source": [
        "sns.lmplot(x='odometer', y='sellingprice', data=df, palette='viridis', height=8);\n",
        "\n",
        "#Choosing the best fit line for visualisation"
      ]
    },
    {
      "cell_type": "markdown",
      "metadata": {
        "id": "LeOYf89zfXTd"
      },
      "source": [
        "**Answer for Q4**: Negatively correlated, as the miles increase the price decrease"
      ]
    },
    {
      "cell_type": "markdown",
      "metadata": {
        "id": "ewFdB4axfXTd"
      },
      "source": [
        "**Q5: Likewise, how correlated is the car's condition with its sale price? (Hint: plot a line of best fit.)**"
      ]
    },
    {
      "cell_type": "markdown",
      "metadata": {
        "id": "jfT91OYsfXTe"
      },
      "source": [
        "**Visualization**"
      ]
    },
    {
      "cell_type": "code",
      "execution_count": null,
      "metadata": {
        "id": "u-653ga5fXTe",
        "colab": {
          "base_uri": "https://localhost:8080/",
          "height": 585
        },
        "outputId": "9999d080-6a52-4833-f40c-04392e52837b"
      },
      "outputs": [
        {
          "output_type": "display_data",
          "data": {
            "image/png": "[encoded data removed]",
            "text/plain": [
              "<Figure size 576x576 with 1 Axes>"
            ]
          },
          "metadata": {}
        }
      ],
      "source": [
        "sns.lmplot(x='condition', y='sellingprice', data=df, palette='viridis', height=8);\n",
        "#Choosing the best fit line for visualisation"
      ]
    },
    {
      "cell_type": "markdown",
      "metadata": {
        "id": "2qik-hmyfXTe"
      },
      "source": [
        "**Answer for Q5**: Positively correlated, as the condition gets better and rating increases the selling price increase."
      ]
    },
    {
      "cell_type": "markdown",
      "metadata": {
        "id": "3ZpdiRsrfXTe"
      },
      "source": [
        "**Q6: Are there differences in the average car price due to the car's body type? If so, rank their order and state the most expensive and least expensive car body type.**"
      ]
    },
    {
      "cell_type": "markdown",
      "metadata": {
        "id": "WQcVfp2rfXTf"
      },
      "source": [
        "**Visualization**"
      ]
    },
    {
      "cell_type": "code",
      "source": [
        "f= plt.figure(figsize= (20,10))\n",
        "sns.boxplot(x='body', y=\"sellingprice\", data=df)\n",
        "plt.xticks(rotation=90)\n",
        "plt.tight_layout()\n",
        "\n",
        "#Choosing the box plot for visualisation"
      ],
      "metadata": {
        "colab": {
          "base_uri": "https://localhost:8080/",
          "height": 720
        },
        "id": "a9KHv7vPhnMf",
        "outputId": "14a34ca9-fa96-43ed-a11e-9eae7633b357"
      },
      "execution_count": null,
      "outputs": [
        {
          "output_type": "display_data",
          "data": {
            "image/png": "[encoded data removed]",
            "text/plain": [
              "<Figure size 1440x720 with 1 Axes>"
            ]
          },
          "metadata": {}
        }
      ]
    },
    {
      "cell_type": "markdown",
      "metadata": {
        "id": "6e-HgD3zfXTf"
      },
      "source": [
        "**Answer for Q6**: Yes there are differences, with order from highest to lowest (Pickup Truck,SUV,Coupe,Convertible,Mini-Van,Sedan,Wagon,Hatchback)"
      ]
    },
    {
      "cell_type": "markdown",
      "metadata": {
        "id": "1g1qmsXQfXTf"
      },
      "source": [
        "## Data Preparation for Modelling\n",
        "\n",
        "_Apply any additional data preparation steps needed before modelling below. Show/output the changes to the dataset._"
      ]
    },
    {
      "cell_type": "code",
      "execution_count": null,
      "metadata": {
        "id": "2Jf-uYRhfXTf",
        "colab": {
          "base_uri": "https://localhost:8080/"
        },
        "outputId": "ee2b6b99-2bc0-4b11-a1dc-1f11bc610b50"
      },
      "outputs": [
        {
          "output_type": "stream",
          "name": "stderr",
          "text": [
            "/usr/local/lib/python3.7/dist-packages/pandas/core/frame.py:4174: SettingWithCopyWarning: \n",
            "A value is trying to be set on a copy of a slice from a DataFrame\n",
            "\n",
            "See the caveats in the documentation: https://pandas.pydata.org/pandas-docs/stable/user_guide/indexing.html#returning-a-view-versus-a-copy\n",
            "  errors=errors,\n"
          ]
        }
      ],
      "source": [
        "df.drop(columns=['model', 'trim','vin','saledate','interior','seller'], inplace = True)"
      ]
    },
    {
      "cell_type": "code",
      "source": [
        "categorical_columns = ['make', 'transmission', 'body', 'state', 'color']\n",
        "df_encoded = pd.get_dummies(data=df, columns=categorical_columns, dtype='int8')\n",
        "df_encoded.head()\n"
      ],
      "metadata": {
        "colab": {
          "base_uri": "https://localhost:8080/",
          "height": 273
        },
        "id": "cDOzcDsVflyB",
        "outputId": "2994d93e-b3b2-459a-9fb1-158c0ff04ab7"
      },
      "execution_count": null,
      "outputs": [
        {
          "output_type": "execute_result",
          "data": {
            "text/html": [
              "<div>\n",
              "<style scoped>\n",
              "    .dataframe tbody tr th:only-of-type {\n",
              "        vertical-align: middle;\n",
              "    }\n",
              "\n",
              "    .dataframe tbody tr th {\n",
              "        vertical-align: top;\n",
              "    }\n",
              "\n",
              "    .dataframe thead th {\n",
              "        text-align: right;\n",
              "    }\n",
              "</style>\n",
              "<table border=\"1\" class=\"dataframe\">\n",
              "  <thead>\n",
              "    <tr style=\"text-align: right;\">\n",
              "      <th></th>\n",
              "      <th>year</th>\n",
              "      <th>condition</th>\n",
              "      <th>odometer</th>\n",
              "      <th>mmr</th>\n",
              "      <th>sellingprice</th>\n",
              "      <th>make_Acura</th>\n",
              "      <th>make_Aston Martin</th>\n",
              "      <th>make_Audi</th>\n",
              "      <th>make_BMW</th>\n",
              "      <th>make_Bentley</th>\n",
              "      <th>make_Buick</th>\n",
              "      <th>make_Cadillac</th>\n",
              "      <th>make_Chevrolet</th>\n",
              "      <th>make_Chrysler</th>\n",
              "      <th>make_Dodge</th>\n",
              "      <th>make_FIAT</th>\n",
              "      <th>make_Ferrari</th>\n",
              "      <th>make_Fisker</th>\n",
              "      <th>make_Ford</th>\n",
              "      <th>make_GMC</th>\n",
              "      <th>make_Geo</th>\n",
              "      <th>make_HUMMER</th>\n",
              "      <th>make_Honda</th>\n",
              "      <th>make_Hyundai</th>\n",
              "      <th>make_Infiniti</th>\n",
              "      <th>make_Isuzu</th>\n",
              "      <th>make_Jaguar</th>\n",
              "      <th>make_Jeep</th>\n",
              "      <th>make_Kia</th>\n",
              "      <th>make_Land Rover</th>\n",
              "      <th>make_Lexus</th>\n",
              "      <th>make_Lincoln</th>\n",
              "      <th>make_MINI</th>\n",
              "      <th>make_Maserati</th>\n",
              "      <th>make_Mazda</th>\n",
              "      <th>make_Mercedes-Benz</th>\n",
              "      <th>make_Mercury</th>\n",
              "      <th>make_Mitsubishi</th>\n",
              "      <th>make_Nissan</th>\n",
              "      <th>make_Oldsmobile</th>\n",
              "      <th>...</th>\n",
              "      <th>state_mn</th>\n",
              "      <th>state_mo</th>\n",
              "      <th>state_ms</th>\n",
              "      <th>state_nc</th>\n",
              "      <th>state_ne</th>\n",
              "      <th>state_nj</th>\n",
              "      <th>state_nm</th>\n",
              "      <th>state_nv</th>\n",
              "      <th>state_ny</th>\n",
              "      <th>state_oh</th>\n",
              "      <th>state_ok</th>\n",
              "      <th>state_or</th>\n",
              "      <th>state_pa</th>\n",
              "      <th>state_pr</th>\n",
              "      <th>state_sc</th>\n",
              "      <th>state_tn</th>\n",
              "      <th>state_tx</th>\n",
              "      <th>state_ut</th>\n",
              "      <th>state_va</th>\n",
              "      <th>state_wa</th>\n",
              "      <th>state_wi</th>\n",
              "      <th>color_beige</th>\n",
              "      <th>color_black</th>\n",
              "      <th>color_blue</th>\n",
              "      <th>color_brown</th>\n",
              "      <th>color_burgundy</th>\n",
              "      <th>color_charcoal</th>\n",
              "      <th>color_gold</th>\n",
              "      <th>color_gray</th>\n",
              "      <th>color_green</th>\n",
              "      <th>color_lime</th>\n",
              "      <th>color_off-white</th>\n",
              "      <th>color_orange</th>\n",
              "      <th>color_pink</th>\n",
              "      <th>color_purple</th>\n",
              "      <th>color_red</th>\n",
              "      <th>color_silver</th>\n",
              "      <th>color_turquoise</th>\n",
              "      <th>color_white</th>\n",
              "      <th>color_yellow</th>\n",
              "    </tr>\n",
              "  </thead>\n",
              "  <tbody>\n",
              "    <tr>\n",
              "      <th>0</th>\n",
              "      <td>2013</td>\n",
              "      <td>3.9</td>\n",
              "      <td>50404.0</td>\n",
              "      <td>11000</td>\n",
              "      <td>10900</td>\n",
              "      <td>0</td>\n",
              "      <td>0</td>\n",
              "      <td>0</td>\n",
              "      <td>0</td>\n",
              "      <td>0</td>\n",
              "      <td>0</td>\n",
              "      <td>0</td>\n",
              "      <td>0</td>\n",
              "      <td>0</td>\n",
              "      <td>0</td>\n",
              "      <td>0</td>\n",
              "      <td>0</td>\n",
              "      <td>0</td>\n",
              "      <td>0</td>\n",
              "      <td>0</td>\n",
              "      <td>0</td>\n",
              "      <td>0</td>\n",
              "      <td>0</td>\n",
              "      <td>1</td>\n",
              "      <td>0</td>\n",
              "      <td>0</td>\n",
              "      <td>0</td>\n",
              "      <td>0</td>\n",
              "      <td>0</td>\n",
              "      <td>0</td>\n",
              "      <td>0</td>\n",
              "      <td>0</td>\n",
              "      <td>0</td>\n",
              "      <td>0</td>\n",
              "      <td>0</td>\n",
              "      <td>0</td>\n",
              "      <td>0</td>\n",
              "      <td>0</td>\n",
              "      <td>0</td>\n",
              "      <td>0</td>\n",
              "      <td>...</td>\n",
              "      <td>0</td>\n",
              "      <td>0</td>\n",
              "      <td>0</td>\n",
              "      <td>0</td>\n",
              "      <td>0</td>\n",
              "      <td>0</td>\n",
              "      <td>0</td>\n",
              "      <td>0</td>\n",
              "      <td>0</td>\n",
              "      <td>0</td>\n",
              "      <td>0</td>\n",
              "      <td>0</td>\n",
              "      <td>0</td>\n",
              "      <td>0</td>\n",
              "      <td>0</td>\n",
              "      <td>0</td>\n",
              "      <td>0</td>\n",
              "      <td>0</td>\n",
              "      <td>0</td>\n",
              "      <td>0</td>\n",
              "      <td>0</td>\n",
              "      <td>0</td>\n",
              "      <td>1</td>\n",
              "      <td>0</td>\n",
              "      <td>0</td>\n",
              "      <td>0</td>\n",
              "      <td>0</td>\n",
              "      <td>0</td>\n",
              "      <td>0</td>\n",
              "      <td>0</td>\n",
              "      <td>0</td>\n",
              "      <td>0</td>\n",
              "      <td>0</td>\n",
              "      <td>0</td>\n",
              "      <td>0</td>\n",
              "      <td>0</td>\n",
              "      <td>0</td>\n",
              "      <td>0</td>\n",
              "      <td>0</td>\n",
              "      <td>0</td>\n",
              "    </tr>\n",
              "    <tr>\n",
              "      <th>2</th>\n",
              "      <td>2012</td>\n",
              "      <td>4.1</td>\n",
              "      <td>21122.0</td>\n",
              "      <td>22200</td>\n",
              "      <td>24200</td>\n",
              "      <td>0</td>\n",
              "      <td>0</td>\n",
              "      <td>0</td>\n",
              "      <td>0</td>\n",
              "      <td>0</td>\n",
              "      <td>0</td>\n",
              "      <td>0</td>\n",
              "      <td>0</td>\n",
              "      <td>0</td>\n",
              "      <td>0</td>\n",
              "      <td>0</td>\n",
              "      <td>0</td>\n",
              "      <td>0</td>\n",
              "      <td>0</td>\n",
              "      <td>0</td>\n",
              "      <td>0</td>\n",
              "      <td>0</td>\n",
              "      <td>0</td>\n",
              "      <td>0</td>\n",
              "      <td>0</td>\n",
              "      <td>0</td>\n",
              "      <td>0</td>\n",
              "      <td>0</td>\n",
              "      <td>0</td>\n",
              "      <td>0</td>\n",
              "      <td>1</td>\n",
              "      <td>0</td>\n",
              "      <td>0</td>\n",
              "      <td>0</td>\n",
              "      <td>0</td>\n",
              "      <td>0</td>\n",
              "      <td>0</td>\n",
              "      <td>0</td>\n",
              "      <td>0</td>\n",
              "      <td>0</td>\n",
              "      <td>...</td>\n",
              "      <td>0</td>\n",
              "      <td>0</td>\n",
              "      <td>0</td>\n",
              "      <td>0</td>\n",
              "      <td>0</td>\n",
              "      <td>0</td>\n",
              "      <td>0</td>\n",
              "      <td>0</td>\n",
              "      <td>0</td>\n",
              "      <td>0</td>\n",
              "      <td>0</td>\n",
              "      <td>0</td>\n",
              "      <td>0</td>\n",
              "      <td>0</td>\n",
              "      <td>0</td>\n",
              "      <td>0</td>\n",
              "      <td>0</td>\n",
              "      <td>0</td>\n",
              "      <td>0</td>\n",
              "      <td>0</td>\n",
              "      <td>0</td>\n",
              "      <td>0</td>\n",
              "      <td>0</td>\n",
              "      <td>0</td>\n",
              "      <td>0</td>\n",
              "      <td>0</td>\n",
              "      <td>0</td>\n",
              "      <td>0</td>\n",
              "      <td>0</td>\n",
              "      <td>0</td>\n",
              "      <td>0</td>\n",
              "      <td>0</td>\n",
              "      <td>0</td>\n",
              "      <td>0</td>\n",
              "      <td>0</td>\n",
              "      <td>0</td>\n",
              "      <td>1</td>\n",
              "      <td>0</td>\n",
              "      <td>0</td>\n",
              "      <td>0</td>\n",
              "    </tr>\n",
              "    <tr>\n",
              "      <th>3</th>\n",
              "      <td>2002</td>\n",
              "      <td>1.9</td>\n",
              "      <td>145303.0</td>\n",
              "      <td>3675</td>\n",
              "      <td>3200</td>\n",
              "      <td>0</td>\n",
              "      <td>0</td>\n",
              "      <td>0</td>\n",
              "      <td>1</td>\n",
              "      <td>0</td>\n",
              "      <td>0</td>\n",
              "      <td>0</td>\n",
              "      <td>0</td>\n",
              "      <td>0</td>\n",
              "      <td>0</td>\n",
              "      <td>0</td>\n",
              "      <td>0</td>\n",
              "      <td>0</td>\n",
              "      <td>0</td>\n",
              "      <td>0</td>\n",
              "      <td>0</td>\n",
              "      <td>0</td>\n",
              "      <td>0</td>\n",
              "      <td>0</td>\n",
              "      <td>0</td>\n",
              "      <td>0</td>\n",
              "      <td>0</td>\n",
              "      <td>0</td>\n",
              "      <td>0</td>\n",
              "      <td>0</td>\n",
              "      <td>0</td>\n",
              "      <td>0</td>\n",
              "      <td>0</td>\n",
              "      <td>0</td>\n",
              "      <td>0</td>\n",
              "      <td>0</td>\n",
              "      <td>0</td>\n",
              "      <td>0</td>\n",
              "      <td>0</td>\n",
              "      <td>0</td>\n",
              "      <td>...</td>\n",
              "      <td>0</td>\n",
              "      <td>0</td>\n",
              "      <td>0</td>\n",
              "      <td>0</td>\n",
              "      <td>0</td>\n",
              "      <td>0</td>\n",
              "      <td>0</td>\n",
              "      <td>0</td>\n",
              "      <td>0</td>\n",
              "      <td>0</td>\n",
              "      <td>0</td>\n",
              "      <td>0</td>\n",
              "      <td>0</td>\n",
              "      <td>0</td>\n",
              "      <td>0</td>\n",
              "      <td>0</td>\n",
              "      <td>0</td>\n",
              "      <td>0</td>\n",
              "      <td>0</td>\n",
              "      <td>0</td>\n",
              "      <td>0</td>\n",
              "      <td>0</td>\n",
              "      <td>1</td>\n",
              "      <td>0</td>\n",
              "      <td>0</td>\n",
              "      <td>0</td>\n",
              "      <td>0</td>\n",
              "      <td>0</td>\n",
              "      <td>0</td>\n",
              "      <td>0</td>\n",
              "      <td>0</td>\n",
              "      <td>0</td>\n",
              "      <td>0</td>\n",
              "      <td>0</td>\n",
              "      <td>0</td>\n",
              "      <td>0</td>\n",
              "      <td>0</td>\n",
              "      <td>0</td>\n",
              "      <td>0</td>\n",
              "      <td>0</td>\n",
              "    </tr>\n",
              "    <tr>\n",
              "      <th>4</th>\n",
              "      <td>2014</td>\n",
              "      <td>4.9</td>\n",
              "      <td>6714.0</td>\n",
              "      <td>22500</td>\n",
              "      <td>22100</td>\n",
              "      <td>0</td>\n",
              "      <td>0</td>\n",
              "      <td>0</td>\n",
              "      <td>0</td>\n",
              "      <td>0</td>\n",
              "      <td>0</td>\n",
              "      <td>0</td>\n",
              "      <td>0</td>\n",
              "      <td>0</td>\n",
              "      <td>0</td>\n",
              "      <td>0</td>\n",
              "      <td>0</td>\n",
              "      <td>0</td>\n",
              "      <td>1</td>\n",
              "      <td>0</td>\n",
              "      <td>0</td>\n",
              "      <td>0</td>\n",
              "      <td>0</td>\n",
              "      <td>0</td>\n",
              "      <td>0</td>\n",
              "      <td>0</td>\n",
              "      <td>0</td>\n",
              "      <td>0</td>\n",
              "      <td>0</td>\n",
              "      <td>0</td>\n",
              "      <td>0</td>\n",
              "      <td>0</td>\n",
              "      <td>0</td>\n",
              "      <td>0</td>\n",
              "      <td>0</td>\n",
              "      <td>0</td>\n",
              "      <td>0</td>\n",
              "      <td>0</td>\n",
              "      <td>0</td>\n",
              "      <td>0</td>\n",
              "      <td>...</td>\n",
              "      <td>0</td>\n",
              "      <td>0</td>\n",
              "      <td>0</td>\n",
              "      <td>0</td>\n",
              "      <td>0</td>\n",
              "      <td>0</td>\n",
              "      <td>0</td>\n",
              "      <td>0</td>\n",
              "      <td>0</td>\n",
              "      <td>0</td>\n",
              "      <td>0</td>\n",
              "      <td>0</td>\n",
              "      <td>0</td>\n",
              "      <td>0</td>\n",
              "      <td>0</td>\n",
              "      <td>0</td>\n",
              "      <td>0</td>\n",
              "      <td>0</td>\n",
              "      <td>0</td>\n",
              "      <td>1</td>\n",
              "      <td>0</td>\n",
              "      <td>0</td>\n",
              "      <td>0</td>\n",
              "      <td>0</td>\n",
              "      <td>0</td>\n",
              "      <td>0</td>\n",
              "      <td>0</td>\n",
              "      <td>0</td>\n",
              "      <td>0</td>\n",
              "      <td>0</td>\n",
              "      <td>0</td>\n",
              "      <td>0</td>\n",
              "      <td>0</td>\n",
              "      <td>0</td>\n",
              "      <td>0</td>\n",
              "      <td>0</td>\n",
              "      <td>0</td>\n",
              "      <td>0</td>\n",
              "      <td>1</td>\n",
              "      <td>0</td>\n",
              "    </tr>\n",
              "    <tr>\n",
              "      <th>5</th>\n",
              "      <td>2014</td>\n",
              "      <td>4.6</td>\n",
              "      <td>8386.0</td>\n",
              "      <td>15100</td>\n",
              "      <td>15500</td>\n",
              "      <td>0</td>\n",
              "      <td>0</td>\n",
              "      <td>0</td>\n",
              "      <td>0</td>\n",
              "      <td>0</td>\n",
              "      <td>0</td>\n",
              "      <td>0</td>\n",
              "      <td>0</td>\n",
              "      <td>0</td>\n",
              "      <td>0</td>\n",
              "      <td>0</td>\n",
              "      <td>0</td>\n",
              "      <td>0</td>\n",
              "      <td>0</td>\n",
              "      <td>0</td>\n",
              "      <td>0</td>\n",
              "      <td>0</td>\n",
              "      <td>0</td>\n",
              "      <td>0</td>\n",
              "      <td>0</td>\n",
              "      <td>0</td>\n",
              "      <td>0</td>\n",
              "      <td>0</td>\n",
              "      <td>1</td>\n",
              "      <td>0</td>\n",
              "      <td>0</td>\n",
              "      <td>0</td>\n",
              "      <td>0</td>\n",
              "      <td>0</td>\n",
              "      <td>0</td>\n",
              "      <td>0</td>\n",
              "      <td>0</td>\n",
              "      <td>0</td>\n",
              "      <td>0</td>\n",
              "      <td>0</td>\n",
              "      <td>...</td>\n",
              "      <td>0</td>\n",
              "      <td>0</td>\n",
              "      <td>0</td>\n",
              "      <td>0</td>\n",
              "      <td>0</td>\n",
              "      <td>0</td>\n",
              "      <td>0</td>\n",
              "      <td>0</td>\n",
              "      <td>0</td>\n",
              "      <td>0</td>\n",
              "      <td>0</td>\n",
              "      <td>0</td>\n",
              "      <td>0</td>\n",
              "      <td>0</td>\n",
              "      <td>0</td>\n",
              "      <td>0</td>\n",
              "      <td>0</td>\n",
              "      <td>0</td>\n",
              "      <td>0</td>\n",
              "      <td>0</td>\n",
              "      <td>0</td>\n",
              "      <td>0</td>\n",
              "      <td>1</td>\n",
              "      <td>0</td>\n",
              "      <td>0</td>\n",
              "      <td>0</td>\n",
              "      <td>0</td>\n",
              "      <td>0</td>\n",
              "      <td>0</td>\n",
              "      <td>0</td>\n",
              "      <td>0</td>\n",
              "      <td>0</td>\n",
              "      <td>0</td>\n",
              "      <td>0</td>\n",
              "      <td>0</td>\n",
              "      <td>0</td>\n",
              "      <td>0</td>\n",
              "      <td>0</td>\n",
              "      <td>0</td>\n",
              "      <td>0</td>\n",
              "    </tr>\n",
              "  </tbody>\n",
              "</table>\n",
              "<p>5 rows × 116 columns</p>\n",
              "</div>"
            ],
            "text/plain": [
              "   year  condition  odometer  ...  color_turquoise  color_white  color_yellow\n",
              "0  2013        3.9   50404.0  ...                0            0             0\n",
              "2  2012        4.1   21122.0  ...                0            0             0\n",
              "3  2002        1.9  145303.0  ...                0            0             0\n",
              "4  2014        4.9    6714.0  ...                0            1             0\n",
              "5  2014        4.6    8386.0  ...                0            0             0\n",
              "\n",
              "[5 rows x 116 columns]"
            ]
          },
          "metadata": {},
          "execution_count": 33
        }
      ]
    },
    {
      "cell_type": "markdown",
      "metadata": {
        "id": "ZQ4d-JVGfXTf"
      },
      "source": [
        "## Modelling\n",
        "\n",
        "_Apply the linear regression model below._"
      ]
    },
    {
      "cell_type": "code",
      "source": [
        "from sklearn.model_selection import train_test_split\n",
        "\n",
        "X = df_encoded.drop('sellingprice', axis=1)\n",
        "y = df_encoded['sellingprice']\n",
        "\n",
        "X_train, X_test, y_train, y_test = train_test_split(X, y, test_size=0.3, random_state=42)"
      ],
      "metadata": {
        "id": "Z7vAiRQwfVPb"
      },
      "execution_count": null,
      "outputs": []
    },
    {
      "cell_type": "code",
      "execution_count": null,
      "metadata": {
        "id": "IQgTau0AfXTg"
      },
      "outputs": [],
      "source": [
        "from sklearn.linear_model import LinearRegression\n",
        "\n",
        "linear_reg = LinearRegression()\n",
        "\n",
        "linear_reg.fit(X_train, y_train);"
      ]
    },
    {
      "cell_type": "markdown",
      "metadata": {
        "id": "Lqz_QtuGfXTg"
      },
      "source": [
        "## Model Evaluation & Validation\n",
        "\n",
        "_Evaluate the model you applied and check if it meets the necessary assumptions for the chosen model._"
      ]
    },
    {
      "cell_type": "code",
      "execution_count": null,
      "metadata": {
        "id": "QQwMVB6IfXTg",
        "colab": {
          "base_uri": "https://localhost:8080/"
        },
        "outputId": "81fc183b-e88d-4158-a77f-bc09496348aa"
      },
      "outputs": [
        {
          "output_type": "execute_result",
          "data": {
            "text/plain": [
              "0.974867454561453"
            ]
          },
          "metadata": {},
          "execution_count": 37
        }
      ],
      "source": [
        "linear_reg.score(X_test, y_test)\n"
      ]
    },
    {
      "cell_type": "markdown",
      "metadata": {
        "id": "K-Jm1jGOfXTg"
      },
      "source": [
        "## Conclusion and Recommendations\n",
        "\n",
        "Comment on the model accuracy and your findings from model evaluation and validation. State the problems (if any) and suggest possible solutions. Would you recommend this model for a used cars dealership that wants to get reliable estimates for used car prices?\n",
        "\n",
        "**Answer**: The model met the necessary assumption because after testing the linear regression model it produced a score of 97.5% which is a pretty high score proving good results"
      ]
    }
  ],
  "metadata": {
    "interpreter": {
      "hash": "e7370f93d1d0cde622a1f8e1c04877d8463912d04d973331ad4851f04de6915a"
    },
    "kernelspec": {
      "display_name": "Python 3.8.11 64-bit ('base': conda)",
      "language": "python",
      "name": "python3"
    },
    "language_info": {
      "codemirror_mode": {
        "name": "ipython",
        "version": 3
      },
      "file_extension": ".py",
      "mimetype": "text/x-python",
      "name": "python",
      "nbconvert_exporter": "python",
      "pygments_lexer": "ipython3",
      "version": "3.9.7"
    },
    "colab": {
      "name": "Regression_Mini-Project.ipynb",
      "provenance": [],
      "include_colab_link": true
    }
  },
  "nbformat": 4,
  "nbformat_minor": 0
}